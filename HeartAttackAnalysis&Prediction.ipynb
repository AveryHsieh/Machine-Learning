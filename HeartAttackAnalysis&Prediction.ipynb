{
  "nbformat": 4,
  "nbformat_minor": 0,
  "metadata": {
    "colab": {
      "provenance": [],
      "gpuType": "T4",
      "authorship_tag": "ABX9TyOODavVKkHFW1aTJhOW+n1b",
      "include_colab_link": true
    },
    "kernelspec": {
      "name": "python3",
      "display_name": "Python 3"
    },
    "language_info": {
      "name": "python"
    },
    "accelerator": "GPU"
  },
  "cells": [
    {
      "cell_type": "markdown",
      "metadata": {
        "id": "view-in-github",
        "colab_type": "text"
      },
      "source": [
        "<a href=\"https://colab.research.google.com/github/AveryHsieh/Machine-Learning/blob/main/HeartAttackAnalysis%26Prediction.ipynb\" target=\"_parent\"><img src=\"https://colab.research.google.com/assets/colab-badge.svg\" alt=\"Open In Colab\"/></a>"
      ]
    },
    {
      "cell_type": "markdown",
      "source": [
        "# 練習 :\n",
        "實作 3 種不同模型，練習１種參數調整方法(EX: GridSearch、RandomizedSearch...)，找出3種模型的最佳參數組合，比較最終結果。"
      ],
      "metadata": {
        "id": "538CkS5RU2ny"
      }
    },
    {
      "cell_type": "markdown",
      "source": [
        "##載入函式庫（libraries）"
      ],
      "metadata": {
        "id": "EhmcwmPMWpvv"
      }
    },
    {
      "cell_type": "code",
      "source": [
        "from sklearn.metrics import make_scorer, average_precision_score\n",
        "from sklearn.model_selection import GridSearchCV\n",
        "from sklearn.svm import SVC\n",
        "from sklearn.tree import DecisionTreeClassifier\n",
        "from xgboost import XGBClassifier\n",
        "from sklearn.model_selection import train_test_split, RandomizedSearchCV\n",
        "from sklearn.metrics import classification_report\n",
        "import pandas as pd"
      ],
      "metadata": {
        "id": "oqymOpWyWqAc"
      },
      "execution_count": null,
      "outputs": []
    },
    {
      "cell_type": "markdown",
      "source": [
        "## 導入data set\n",
        "\n",
        "\n",
        "資料集來源 : https://www.kaggle.com/datasets/rashikrahmanpritom/heart-attack-analysis-prediction-dataset/data\n",
        "\n",
        "連接Google Drive，並使用read_csv()函數導入CSV格式的數據集"
      ],
      "metadata": {
        "id": "fC2lu5-CWWf7"
      }
    },
    {
      "cell_type": "code",
      "execution_count": null,
      "metadata": {
        "colab": {
          "base_uri": "https://localhost:8080/"
        },
        "id": "PwVsYp5VUmZ3",
        "outputId": "ee95ab60-256d-4a7c-ec88-aa2360dc93cc"
      },
      "outputs": [
        {
          "output_type": "stream",
          "name": "stdout",
          "text": [
            "Drive already mounted at /content/drive; to attempt to forcibly remount, call drive.mount(\"/content/drive\", force_remount=True).\n"
          ]
        }
      ],
      "source": [
        "#連接Google雲端硬碟\n",
        "from google.colab import drive\n",
        "drive.mount('/content/drive')\n",
        "\n",
        "data = pd.read_csv(\"/content/drive/MyDrive/112-1/機器學習觀念與應用/練習三/heart.csv\")"
      ]
    },
    {
      "cell_type": "markdown",
      "source": [
        "## 查看資料集"
      ],
      "metadata": {
        "id": "Nr7wjBVoo1ag"
      }
    },
    {
      "cell_type": "code",
      "source": [
        "data.head()"
      ],
      "metadata": {
        "colab": {
          "base_uri": "https://localhost:8080/",
          "height": 206
        },
        "id": "HUkeDCnBXDxI",
        "outputId": "5eb09ad7-fc53-44f8-9e22-ac390f9c4507"
      },
      "execution_count": null,
      "outputs": [
        {
          "output_type": "execute_result",
          "data": {
            "text/plain": [
              "   age  sex  cp  trtbps  chol  fbs  restecg  thalachh  exng  oldpeak  slp  \\\n",
              "0   63    1   3     145   233    1        0       150     0      2.3    0   \n",
              "1   37    1   2     130   250    0        1       187     0      3.5    0   \n",
              "2   41    0   1     130   204    0        0       172     0      1.4    2   \n",
              "3   56    1   1     120   236    0        1       178     0      0.8    2   \n",
              "4   57    0   0     120   354    0        1       163     1      0.6    2   \n",
              "\n",
              "   caa  thall  output  \n",
              "0    0      1       1  \n",
              "1    0      2       1  \n",
              "2    0      2       1  \n",
              "3    0      2       1  \n",
              "4    0      2       1  "
            ],
            "text/html": [
              "\n",
              "  <div id=\"df-870518a7-06fe-4082-88d3-19afc6854972\" class=\"colab-df-container\">\n",
              "    <div>\n",
              "<style scoped>\n",
              "    .dataframe tbody tr th:only-of-type {\n",
              "        vertical-align: middle;\n",
              "    }\n",
              "\n",
              "    .dataframe tbody tr th {\n",
              "        vertical-align: top;\n",
              "    }\n",
              "\n",
              "    .dataframe thead th {\n",
              "        text-align: right;\n",
              "    }\n",
              "</style>\n",
              "<table border=\"1\" class=\"dataframe\">\n",
              "  <thead>\n",
              "    <tr style=\"text-align: right;\">\n",
              "      <th></th>\n",
              "      <th>age</th>\n",
              "      <th>sex</th>\n",
              "      <th>cp</th>\n",
              "      <th>trtbps</th>\n",
              "      <th>chol</th>\n",
              "      <th>fbs</th>\n",
              "      <th>restecg</th>\n",
              "      <th>thalachh</th>\n",
              "      <th>exng</th>\n",
              "      <th>oldpeak</th>\n",
              "      <th>slp</th>\n",
              "      <th>caa</th>\n",
              "      <th>thall</th>\n",
              "      <th>output</th>\n",
              "    </tr>\n",
              "  </thead>\n",
              "  <tbody>\n",
              "    <tr>\n",
              "      <th>0</th>\n",
              "      <td>63</td>\n",
              "      <td>1</td>\n",
              "      <td>3</td>\n",
              "      <td>145</td>\n",
              "      <td>233</td>\n",
              "      <td>1</td>\n",
              "      <td>0</td>\n",
              "      <td>150</td>\n",
              "      <td>0</td>\n",
              "      <td>2.3</td>\n",
              "      <td>0</td>\n",
              "      <td>0</td>\n",
              "      <td>1</td>\n",
              "      <td>1</td>\n",
              "    </tr>\n",
              "    <tr>\n",
              "      <th>1</th>\n",
              "      <td>37</td>\n",
              "      <td>1</td>\n",
              "      <td>2</td>\n",
              "      <td>130</td>\n",
              "      <td>250</td>\n",
              "      <td>0</td>\n",
              "      <td>1</td>\n",
              "      <td>187</td>\n",
              "      <td>0</td>\n",
              "      <td>3.5</td>\n",
              "      <td>0</td>\n",
              "      <td>0</td>\n",
              "      <td>2</td>\n",
              "      <td>1</td>\n",
              "    </tr>\n",
              "    <tr>\n",
              "      <th>2</th>\n",
              "      <td>41</td>\n",
              "      <td>0</td>\n",
              "      <td>1</td>\n",
              "      <td>130</td>\n",
              "      <td>204</td>\n",
              "      <td>0</td>\n",
              "      <td>0</td>\n",
              "      <td>172</td>\n",
              "      <td>0</td>\n",
              "      <td>1.4</td>\n",
              "      <td>2</td>\n",
              "      <td>0</td>\n",
              "      <td>2</td>\n",
              "      <td>1</td>\n",
              "    </tr>\n",
              "    <tr>\n",
              "      <th>3</th>\n",
              "      <td>56</td>\n",
              "      <td>1</td>\n",
              "      <td>1</td>\n",
              "      <td>120</td>\n",
              "      <td>236</td>\n",
              "      <td>0</td>\n",
              "      <td>1</td>\n",
              "      <td>178</td>\n",
              "      <td>0</td>\n",
              "      <td>0.8</td>\n",
              "      <td>2</td>\n",
              "      <td>0</td>\n",
              "      <td>2</td>\n",
              "      <td>1</td>\n",
              "    </tr>\n",
              "    <tr>\n",
              "      <th>4</th>\n",
              "      <td>57</td>\n",
              "      <td>0</td>\n",
              "      <td>0</td>\n",
              "      <td>120</td>\n",
              "      <td>354</td>\n",
              "      <td>0</td>\n",
              "      <td>1</td>\n",
              "      <td>163</td>\n",
              "      <td>1</td>\n",
              "      <td>0.6</td>\n",
              "      <td>2</td>\n",
              "      <td>0</td>\n",
              "      <td>2</td>\n",
              "      <td>1</td>\n",
              "    </tr>\n",
              "  </tbody>\n",
              "</table>\n",
              "</div>\n",
              "    <div class=\"colab-df-buttons\">\n",
              "\n",
              "  <div class=\"colab-df-container\">\n",
              "    <button class=\"colab-df-convert\" onclick=\"convertToInteractive('df-870518a7-06fe-4082-88d3-19afc6854972')\"\n",
              "            title=\"Convert this dataframe to an interactive table.\"\n",
              "            style=\"display:none;\">\n",
              "\n",
              "  <svg xmlns=\"http://www.w3.org/2000/svg\" height=\"24px\" viewBox=\"0 -960 960 960\">\n",
              "    <path d=\"M120-120v-720h720v720H120Zm60-500h600v-160H180v160Zm220 220h160v-160H400v160Zm0 220h160v-160H400v160ZM180-400h160v-160H180v160Zm440 0h160v-160H620v160ZM180-180h160v-160H180v160Zm440 0h160v-160H620v160Z\"/>\n",
              "  </svg>\n",
              "    </button>\n",
              "\n",
              "  <style>\n",
              "    .colab-df-container {\n",
              "      display:flex;\n",
              "      gap: 12px;\n",
              "    }\n",
              "\n",
              "    .colab-df-convert {\n",
              "      background-color: #E8F0FE;\n",
              "      border: none;\n",
              "      border-radius: 50%;\n",
              "      cursor: pointer;\n",
              "      display: none;\n",
              "      fill: #1967D2;\n",
              "      height: 32px;\n",
              "      padding: 0 0 0 0;\n",
              "      width: 32px;\n",
              "    }\n",
              "\n",
              "    .colab-df-convert:hover {\n",
              "      background-color: #E2EBFA;\n",
              "      box-shadow: 0px 1px 2px rgba(60, 64, 67, 0.3), 0px 1px 3px 1px rgba(60, 64, 67, 0.15);\n",
              "      fill: #174EA6;\n",
              "    }\n",
              "\n",
              "    .colab-df-buttons div {\n",
              "      margin-bottom: 4px;\n",
              "    }\n",
              "\n",
              "    [theme=dark] .colab-df-convert {\n",
              "      background-color: #3B4455;\n",
              "      fill: #D2E3FC;\n",
              "    }\n",
              "\n",
              "    [theme=dark] .colab-df-convert:hover {\n",
              "      background-color: #434B5C;\n",
              "      box-shadow: 0px 1px 3px 1px rgba(0, 0, 0, 0.15);\n",
              "      filter: drop-shadow(0px 1px 2px rgba(0, 0, 0, 0.3));\n",
              "      fill: #FFFFFF;\n",
              "    }\n",
              "  </style>\n",
              "\n",
              "    <script>\n",
              "      const buttonEl =\n",
              "        document.querySelector('#df-870518a7-06fe-4082-88d3-19afc6854972 button.colab-df-convert');\n",
              "      buttonEl.style.display =\n",
              "        google.colab.kernel.accessAllowed ? 'block' : 'none';\n",
              "\n",
              "      async function convertToInteractive(key) {\n",
              "        const element = document.querySelector('#df-870518a7-06fe-4082-88d3-19afc6854972');\n",
              "        const dataTable =\n",
              "          await google.colab.kernel.invokeFunction('convertToInteractive',\n",
              "                                                    [key], {});\n",
              "        if (!dataTable) return;\n",
              "\n",
              "        const docLinkHtml = 'Like what you see? Visit the ' +\n",
              "          '<a target=\"_blank\" href=https://colab.research.google.com/notebooks/data_table.ipynb>data table notebook</a>'\n",
              "          + ' to learn more about interactive tables.';\n",
              "        element.innerHTML = '';\n",
              "        dataTable['output_type'] = 'display_data';\n",
              "        await google.colab.output.renderOutput(dataTable, element);\n",
              "        const docLink = document.createElement('div');\n",
              "        docLink.innerHTML = docLinkHtml;\n",
              "        element.appendChild(docLink);\n",
              "      }\n",
              "    </script>\n",
              "  </div>\n",
              "\n",
              "\n",
              "<div id=\"df-1658668d-15d6-4649-9332-807a9ec14347\">\n",
              "  <button class=\"colab-df-quickchart\" onclick=\"quickchart('df-1658668d-15d6-4649-9332-807a9ec14347')\"\n",
              "            title=\"Suggest charts.\"\n",
              "            style=\"display:none;\">\n",
              "\n",
              "<svg xmlns=\"http://www.w3.org/2000/svg\" height=\"24px\"viewBox=\"0 0 24 24\"\n",
              "     width=\"24px\">\n",
              "    <g>\n",
              "        <path d=\"M19 3H5c-1.1 0-2 .9-2 2v14c0 1.1.9 2 2 2h14c1.1 0 2-.9 2-2V5c0-1.1-.9-2-2-2zM9 17H7v-7h2v7zm4 0h-2V7h2v10zm4 0h-2v-4h2v4z\"/>\n",
              "    </g>\n",
              "</svg>\n",
              "  </button>\n",
              "\n",
              "<style>\n",
              "  .colab-df-quickchart {\n",
              "      --bg-color: #E8F0FE;\n",
              "      --fill-color: #1967D2;\n",
              "      --hover-bg-color: #E2EBFA;\n",
              "      --hover-fill-color: #174EA6;\n",
              "      --disabled-fill-color: #AAA;\n",
              "      --disabled-bg-color: #DDD;\n",
              "  }\n",
              "\n",
              "  [theme=dark] .colab-df-quickchart {\n",
              "      --bg-color: #3B4455;\n",
              "      --fill-color: #D2E3FC;\n",
              "      --hover-bg-color: #434B5C;\n",
              "      --hover-fill-color: #FFFFFF;\n",
              "      --disabled-bg-color: #3B4455;\n",
              "      --disabled-fill-color: #666;\n",
              "  }\n",
              "\n",
              "  .colab-df-quickchart {\n",
              "    background-color: var(--bg-color);\n",
              "    border: none;\n",
              "    border-radius: 50%;\n",
              "    cursor: pointer;\n",
              "    display: none;\n",
              "    fill: var(--fill-color);\n",
              "    height: 32px;\n",
              "    padding: 0;\n",
              "    width: 32px;\n",
              "  }\n",
              "\n",
              "  .colab-df-quickchart:hover {\n",
              "    background-color: var(--hover-bg-color);\n",
              "    box-shadow: 0 1px 2px rgba(60, 64, 67, 0.3), 0 1px 3px 1px rgba(60, 64, 67, 0.15);\n",
              "    fill: var(--button-hover-fill-color);\n",
              "  }\n",
              "\n",
              "  .colab-df-quickchart-complete:disabled,\n",
              "  .colab-df-quickchart-complete:disabled:hover {\n",
              "    background-color: var(--disabled-bg-color);\n",
              "    fill: var(--disabled-fill-color);\n",
              "    box-shadow: none;\n",
              "  }\n",
              "\n",
              "  .colab-df-spinner {\n",
              "    border: 2px solid var(--fill-color);\n",
              "    border-color: transparent;\n",
              "    border-bottom-color: var(--fill-color);\n",
              "    animation:\n",
              "      spin 1s steps(1) infinite;\n",
              "  }\n",
              "\n",
              "  @keyframes spin {\n",
              "    0% {\n",
              "      border-color: transparent;\n",
              "      border-bottom-color: var(--fill-color);\n",
              "      border-left-color: var(--fill-color);\n",
              "    }\n",
              "    20% {\n",
              "      border-color: transparent;\n",
              "      border-left-color: var(--fill-color);\n",
              "      border-top-color: var(--fill-color);\n",
              "    }\n",
              "    30% {\n",
              "      border-color: transparent;\n",
              "      border-left-color: var(--fill-color);\n",
              "      border-top-color: var(--fill-color);\n",
              "      border-right-color: var(--fill-color);\n",
              "    }\n",
              "    40% {\n",
              "      border-color: transparent;\n",
              "      border-right-color: var(--fill-color);\n",
              "      border-top-color: var(--fill-color);\n",
              "    }\n",
              "    60% {\n",
              "      border-color: transparent;\n",
              "      border-right-color: var(--fill-color);\n",
              "    }\n",
              "    80% {\n",
              "      border-color: transparent;\n",
              "      border-right-color: var(--fill-color);\n",
              "      border-bottom-color: var(--fill-color);\n",
              "    }\n",
              "    90% {\n",
              "      border-color: transparent;\n",
              "      border-bottom-color: var(--fill-color);\n",
              "    }\n",
              "  }\n",
              "</style>\n",
              "\n",
              "  <script>\n",
              "    async function quickchart(key) {\n",
              "      const quickchartButtonEl =\n",
              "        document.querySelector('#' + key + ' button');\n",
              "      quickchartButtonEl.disabled = true;  // To prevent multiple clicks.\n",
              "      quickchartButtonEl.classList.add('colab-df-spinner');\n",
              "      try {\n",
              "        const charts = await google.colab.kernel.invokeFunction(\n",
              "            'suggestCharts', [key], {});\n",
              "      } catch (error) {\n",
              "        console.error('Error during call to suggestCharts:', error);\n",
              "      }\n",
              "      quickchartButtonEl.classList.remove('colab-df-spinner');\n",
              "      quickchartButtonEl.classList.add('colab-df-quickchart-complete');\n",
              "    }\n",
              "    (() => {\n",
              "      let quickchartButtonEl =\n",
              "        document.querySelector('#df-1658668d-15d6-4649-9332-807a9ec14347 button');\n",
              "      quickchartButtonEl.style.display =\n",
              "        google.colab.kernel.accessAllowed ? 'block' : 'none';\n",
              "    })();\n",
              "  </script>\n",
              "</div>\n",
              "    </div>\n",
              "  </div>\n"
            ]
          },
          "metadata": {},
          "execution_count": 15
        }
      ]
    },
    {
      "cell_type": "code",
      "source": [
        "data.info()"
      ],
      "metadata": {
        "colab": {
          "base_uri": "https://localhost:8080/"
        },
        "id": "kUrS29ZrXEcn",
        "outputId": "e052d91d-d393-4ab0-ff01-4d48c91f528d"
      },
      "execution_count": null,
      "outputs": [
        {
          "output_type": "stream",
          "name": "stdout",
          "text": [
            "<class 'pandas.core.frame.DataFrame'>\n",
            "RangeIndex: 303 entries, 0 to 302\n",
            "Data columns (total 14 columns):\n",
            " #   Column    Non-Null Count  Dtype  \n",
            "---  ------    --------------  -----  \n",
            " 0   age       303 non-null    int64  \n",
            " 1   sex       303 non-null    int64  \n",
            " 2   cp        303 non-null    int64  \n",
            " 3   trtbps    303 non-null    int64  \n",
            " 4   chol      303 non-null    int64  \n",
            " 5   fbs       303 non-null    int64  \n",
            " 6   restecg   303 non-null    int64  \n",
            " 7   thalachh  303 non-null    int64  \n",
            " 8   exng      303 non-null    int64  \n",
            " 9   oldpeak   303 non-null    float64\n",
            " 10  slp       303 non-null    int64  \n",
            " 11  caa       303 non-null    int64  \n",
            " 12  thall     303 non-null    int64  \n",
            " 13  output    303 non-null    int64  \n",
            "dtypes: float64(1), int64(13)\n",
            "memory usage: 33.3 KB\n"
          ]
        }
      ]
    },
    {
      "cell_type": "code",
      "source": [
        "# 確認有無NA值\n",
        "data.isnull().sum()"
      ],
      "metadata": {
        "colab": {
          "base_uri": "https://localhost:8080/"
        },
        "id": "uBpbNzVelski",
        "outputId": "9bdc8d73-4535-4f2b-f31b-f5f1953488d1"
      },
      "execution_count": null,
      "outputs": [
        {
          "output_type": "execute_result",
          "data": {
            "text/plain": [
              "age         0\n",
              "sex         0\n",
              "cp          0\n",
              "trtbps      0\n",
              "chol        0\n",
              "fbs         0\n",
              "restecg     0\n",
              "thalachh    0\n",
              "exng        0\n",
              "oldpeak     0\n",
              "slp         0\n",
              "caa         0\n",
              "thall       0\n",
              "output      0\n",
              "dtype: int64"
            ]
          },
          "metadata": {},
          "execution_count": 17
        }
      ]
    },
    {
      "cell_type": "code",
      "source": [
        "# 正負類別分布\n",
        "value_counts = data['output'].value_counts()\n",
        "\n",
        "value_counts.plot.bar(title = 'Output value counts',color='b')"
      ],
      "metadata": {
        "colab": {
          "base_uri": "https://localhost:8080/",
          "height": 464
        },
        "id": "RKGvzXRJl0uW",
        "outputId": "41934dfe-f4ae-46a0-966c-785bd00a6f67"
      },
      "execution_count": null,
      "outputs": [
        {
          "output_type": "execute_result",
          "data": {
            "text/plain": [
              "<Axes: title={'center': 'Output value counts'}>"
            ]
          },
          "metadata": {},
          "execution_count": 18
        },
        {
          "output_type": "display_data",
          "data": {
            "text/plain": [
              "<Figure size 640x480 with 1 Axes>"
            ],
            "image/png": "[encoded data removed]"
          },
          "metadata": {}
        }
      ]
    },
    {
      "cell_type": "markdown",
      "source": [
        "# 模型實作與比較\n",
        "\n"
      ],
      "metadata": {
        "id": "KcgIb5sAbcF6"
      }
    },
    {
      "cell_type": "code",
      "source": [
        "# 分割特徵和目標變數\n",
        "X = data.drop('output', axis=1)\n",
        "y = data['output']\n",
        "\n",
        "# 切分訓練集和測試集\n",
        "X_train, X_test, y_train, y_test = train_test_split(X, y, test_size=0.2, random_state=42)\n"
      ],
      "metadata": {
        "id": "cx6XCCHpcegx"
      },
      "execution_count": null,
      "outputs": []
    },
    {
      "cell_type": "markdown",
      "source": [
        "\n",
        "\n",
        "> 支援向量機 (Support Vector Machine)   \n",
        "參數調整方法 : RandomizedSearch\n",
        "\n"
      ],
      "metadata": {
        "id": "51pDGB5Cb88o"
      }
    },
    {
      "cell_type": "code",
      "source": [
        "# 支援向量機 (Support Vector Machine) 的參數範圍\n",
        "svm_param_dist = {\n",
        "    'C': [0.1, 1, 10, 100],\n",
        "    'gamma': [0.1, 1, 10, 100],\n",
        "    'kernel': ['rbf', 'linear']\n",
        "}\n",
        "\n",
        "# 使用RandomizedSearchCV來尋找最佳參數組合\n",
        "svm_random_search = RandomizedSearchCV(SVC(probability=True), param_distributions=svm_param_dist, n_iter=10, cv=5)\n",
        "svm_random_search.fit(X_train, y_train)\n",
        "svm_best_model = svm_random_search.best_estimator_"
      ],
      "metadata": {
        "id": "PQlC41L3cVef"
      },
      "execution_count": null,
      "outputs": []
    },
    {
      "cell_type": "markdown",
      "source": [
        "\n",
        "\n",
        "> 決策樹 (Decision Trees)  \n",
        "參數調整方法 : RandomizedSearch\n",
        "\n"
      ],
      "metadata": {
        "id": "9CDKFbOTcJwS"
      }
    },
    {
      "cell_type": "code",
      "source": [
        "# 決策樹 (Decision Trees) 的參數範圍\n",
        "dt_param_dist = {\n",
        "    'max_depth': [3, 5, 7, 9, None],\n",
        "    'min_samples_split': [2, 5, 10],\n",
        "    'min_samples_leaf': [1, 2, 4]\n",
        "}\n",
        "\n",
        "# 使用RandomizedSearchCV來尋找最佳參數組合\n",
        "dt_random_search = RandomizedSearchCV(DecisionTreeClassifier(), param_distributions=dt_param_dist, n_iter=10, cv=5)\n",
        "dt_random_search.fit(X_train, y_train)\n",
        "dt_best_model = dt_random_search.best_estimator_"
      ],
      "metadata": {
        "id": "K53Wd8xdci6t"
      },
      "execution_count": null,
      "outputs": []
    },
    {
      "cell_type": "markdown",
      "source": [
        "\n",
        "\n",
        "> XGBoost   \n",
        "參數調整方法 : RandomizedSearch\n",
        "\n"
      ],
      "metadata": {
        "id": "oY_QwHN6cJ3l"
      }
    },
    {
      "cell_type": "code",
      "source": [
        "# XGBoost模型的參數範圍\n",
        "xgb_param_dist = {\n",
        "    'max_depth': [3, 5, 7, 9],\n",
        "    'learning_rate': [0.1, 0.01, 0.001],\n",
        "    'n_estimators': [100, 200, 300]\n",
        "}\n",
        "\n",
        "# 使用RandomizedSearchCV來尋找最佳參數組合\n",
        "xgb_random_search = RandomizedSearchCV(XGBClassifier(), param_distributions=xgb_param_dist, n_iter=10, cv=5)\n",
        "xgb_random_search.fit(X_train, y_train)\n",
        "xgb_best_model = xgb_random_search.best_estimator_"
      ],
      "metadata": {
        "id": "IRtt3t6lclui"
      },
      "execution_count": null,
      "outputs": []
    },
    {
      "cell_type": "markdown",
      "source": [
        "#模型評估"
      ],
      "metadata": {
        "id": "OEgfYuNQcnek"
      }
    },
    {
      "cell_type": "markdown",
      "source": [
        "##分類報告(classification report)"
      ],
      "metadata": {
        "id": "JAo0oJrPkcHh"
      }
    },
    {
      "cell_type": "markdown",
      "source": [
        "使用RandomizedSearchCV來尋找SVM、決策樹和XGBoost模型的最佳參數組合，並印出每個模型在訓練集上的classification report。這些報告將提供模型的精確度、召回率、F1分數等指標，供三種模型性能的比較。"
      ],
      "metadata": {
        "id": "_fOSN3MfZRNF"
      }
    },
    {
      "cell_type": "code",
      "source": [
        "from sklearn.metrics import classification_report"
      ],
      "metadata": {
        "id": "ZFgaQh1WfKa_"
      },
      "execution_count": null,
      "outputs": []
    },
    {
      "cell_type": "code",
      "source": [
        "# 在訓練集上做預測\n",
        "svm_train_pred = svm_best_model.predict(X_train)\n",
        "dt_train_pred = dt_best_model.predict(X_train)\n",
        "xgb_train_pred = xgb_best_model.predict(X_train)\n",
        "\n",
        "# 印出三種模型在訓練集上的分類報告\n",
        "print(\"SVM Classification Report:\")\n",
        "print(classification_report(y_true=y_train, y_pred=svm_train_pred))\n",
        "\n",
        "print(\"Decision Tree Classification Report:\")\n",
        "print(classification_report(y_true=y_train, y_pred=dt_train_pred))\n",
        "\n",
        "print(\"XGBoost Classification Report:\")\n",
        "print(classification_report(y_true=y_train, y_pred=xgb_train_pred))"
      ],
      "metadata": {
        "id": "mbl071B0e-UZ",
        "colab": {
          "base_uri": "https://localhost:8080/"
        },
        "outputId": "24eca516-8366-4e0e-ffc3-0d66bfdf80f1"
      },
      "execution_count": null,
      "outputs": [
        {
          "output_type": "stream",
          "name": "stdout",
          "text": [
            "SVM Classification Report:\n",
            "              precision    recall  f1-score   support\n",
            "\n",
            "           0       0.86      0.83      0.84       109\n",
            "           1       0.86      0.89      0.87       133\n",
            "\n",
            "    accuracy                           0.86       242\n",
            "   macro avg       0.86      0.86      0.86       242\n",
            "weighted avg       0.86      0.86      0.86       242\n",
            "\n",
            "Decision Tree Classification Report:\n",
            "              precision    recall  f1-score   support\n",
            "\n",
            "           0       0.89      0.89      0.89       109\n",
            "           1       0.91      0.91      0.91       133\n",
            "\n",
            "    accuracy                           0.90       242\n",
            "   macro avg       0.90      0.90      0.90       242\n",
            "weighted avg       0.90      0.90      0.90       242\n",
            "\n",
            "XGBoost Classification Report:\n",
            "              precision    recall  f1-score   support\n",
            "\n",
            "           0       1.00      1.00      1.00       109\n",
            "           1       1.00      1.00      1.00       133\n",
            "\n",
            "    accuracy                           1.00       242\n",
            "   macro avg       1.00      1.00      1.00       242\n",
            "weighted avg       1.00      1.00      1.00       242\n",
            "\n"
          ]
        }
      ]
    },
    {
      "cell_type": "markdown",
      "source": [
        "**SVM 模型結果:**\n",
        "\n",
        "* 精確度 (Precision):\n",
        " * 類別 0: 0.86，表示當模型預測為 0 的時候，實際上有 86% 的機會是正確的。\n",
        "\n",
        " * 類別 1: 0.86，表示當模型預測為 1 的時候，實際上有 86% 的機會是正確的。\n",
        "\n",
        "* 召回率 (Recall):\n",
        "\n",
        " * 類別 0: 0.83，表示在實際為 0 的樣本中，模型成功預測的比例為 83%。\n",
        "\n",
        " * 類別 1: 0.89，表示在實際為 1 的樣本中，模型成功預測的比例為 89%。\n",
        "\n",
        "* F1 分數 (F1-Score):\n",
        "\n",
        " * 類別 0: 0.84，是精確度和召回率的調和平均值。它是一個綜合考慮精確度和召回率的指標。\n",
        "\n",
        " * 類別 1: 0.87，是精確度和召回率的調和平均值。它是一個綜合考慮精確度和召回率的指標。\n",
        "\n",
        "* 準確度 (Accuracy): 0.86，表示模型正確預測的樣本比例為 86%。\n",
        "---\n",
        "\n",
        "**決策樹模型結果:**\n",
        "\n",
        "* 精確度 (Precision):\n",
        "\n",
        " * 類別 0: 0.89，表示當模型預測為 0 的時候，實際上有 89% 的機會是正確的。\n",
        "\n",
        " * 類別 1: 0.91，表示當模型預測為 1 的時候，實際上有 91% 的機會是正確的。\n",
        "\n",
        "* 召回率 (Recall):\n",
        "\n",
        " * 類別 0: 0.89，表示在實際為 0 的樣本中，模型成功預測的比例為 89%。\n",
        "\n",
        " * 類別 1: 0.91，表示在實際為 1 的樣本中，模型成功預測的比例為 91%。\n",
        "\n",
        "* F1 分數 (F1-Score):\n",
        "\n",
        " * 類別 0: 0.89，是精確度和召回率的調和平均值。\n",
        "\n",
        " * 類別 1: 0.91，是精確度和召回率的調和平均值。\n",
        "\n",
        "* 準確度 (Accuracy): 0.90，表示模型正確預測的樣本比例為 90%。\n",
        "---\n",
        "\n",
        "**XGBoost 模型結果:**\n",
        "\n",
        "* 精確度 (Precision):\n",
        "\n",
        "  * 類別 0: 1.00，表示當模型預測為 0 的時候，所有的預測都是正確的。\n",
        "\n",
        "  * 類別 1: 1.00，表示當模型預測為 1 的時候，所有的預測都是正確的。\n",
        "\n",
        "* 召回率 (Recall):\n",
        "\n",
        "  * 類別 0: 1.00，表示在實際為 0 的樣本中，模型成功預測的比例為 100%。\n",
        "\n",
        "  * 類別 1: 1.00，表示在實際為 1 的樣本中，模型成功預測的比例為 100%。\n",
        "\n",
        "* F1 分數 (F1-Score):\n",
        "\n",
        "  * 類別 0: 1.00，是精確度和召回率的調和平均值。\n",
        "\n",
        "  * 類別 1: 1.00，是精確度和召回率的調和平均值。\n",
        "\n",
        "* 準確度 (Accuracy): 1.00，表示模型正確預測的樣本比例為 100%。\n",
        "---\n",
        "\n",
        "**比較:**\n",
        "\n",
        "1. XGBoost 模型在訓練集上取得了完美的準確度，所有的預測都是正確的。這表示在訓練集上，XGBoost 模型的性能優於SVM和決策樹模型。\n",
        "\n",
        "2. 決策樹模型的表現也相當不錯，其準確度為90%，並且在精確度、召回率和F1分數上都達到了相當高的值。\n",
        "\n",
        "3. SVM 模型雖然精確度為86%，但在召回率和F1分數上略遜於決策樹模型。"
      ],
      "metadata": {
        "id": "Sc00u9ULqpZE"
      }
    },
    {
      "cell_type": "code",
      "source": [
        "# 在測試集上做預測\n",
        "svm_test_pred = svm_best_model.predict(X_test)\n",
        "dt_test_pred = dt_best_model.predict(X_test)\n",
        "xgb_test_pred = xgb_best_model.predict(X_test)\n",
        "\n",
        "# 印出三種模型在測試集上的分類報告\n",
        "print(\"SVM Classification Report:\")\n",
        "print(classification_report(y_true=y_test, y_pred=svm_test_pred))\n",
        "\n",
        "print(\"Decision Tree Classification Report:\")\n",
        "print(classification_report(y_true=y_test, y_pred=dt_test_pred))\n",
        "\n",
        "print(\"XGBoost Classification Report:\")\n",
        "print(classification_report(y_true=y_test, y_pred=xgb_test_pred))"
      ],
      "metadata": {
        "id": "YB4HbU8_fJ1Z",
        "colab": {
          "base_uri": "https://localhost:8080/"
        },
        "outputId": "58be2208-296c-49e2-aba3-b2fbebed3122"
      },
      "execution_count": null,
      "outputs": [
        {
          "output_type": "stream",
          "name": "stdout",
          "text": [
            "SVM Classification Report:\n",
            "              precision    recall  f1-score   support\n",
            "\n",
            "           0       0.84      0.90      0.87        29\n",
            "           1       0.90      0.84      0.87        32\n",
            "\n",
            "    accuracy                           0.87        61\n",
            "   macro avg       0.87      0.87      0.87        61\n",
            "weighted avg       0.87      0.87      0.87        61\n",
            "\n",
            "Decision Tree Classification Report:\n",
            "              precision    recall  f1-score   support\n",
            "\n",
            "           0       0.78      0.97      0.86        29\n",
            "           1       0.96      0.75      0.84        32\n",
            "\n",
            "    accuracy                           0.85        61\n",
            "   macro avg       0.87      0.86      0.85        61\n",
            "weighted avg       0.87      0.85      0.85        61\n",
            "\n",
            "XGBoost Classification Report:\n",
            "              precision    recall  f1-score   support\n",
            "\n",
            "           0       0.73      0.83      0.77        29\n",
            "           1       0.82      0.72      0.77        32\n",
            "\n",
            "    accuracy                           0.77        61\n",
            "   macro avg       0.77      0.77      0.77        61\n",
            "weighted avg       0.78      0.77      0.77        61\n",
            "\n"
          ]
        }
      ]
    },
    {
      "cell_type": "markdown",
      "source": [
        "**SVM 模型結果:**\n",
        "\n",
        "* 精確度 (Precision):\n",
        "\n",
        " * 類別 0: 0.84，表示當模型預測為 0 的時候，實際上有 84% 的機會是正確的。\n",
        "\n",
        " * 類別 1: 0.90，表示當模型預測為 1 的時候，實際上有 90% 的機會是正確的。\n",
        "\n",
        "* 召回率 (Recall):\n",
        "\n",
        " * 類別 0: 0.90，表示在實際為 0 的樣本中，模型成功預測的比例為 90%。\n",
        "\n",
        " * 類別 1: 0.84，表示在實際為 1 的樣本中，模型成功預測的比例為 84%。\n",
        "\n",
        "F* 1 分數 (F1-Score):\n",
        "\n",
        " * 類別 0: 0.87，是精確度和召回率的調和平均值。\n",
        "\n",
        " * 類別 1: 0.87，是精確度和召回率的調和平均值。\n",
        "\n",
        "* 準確度 (Accuracy): 0.87，表示模型正確預測的樣本比例為 87%。\n",
        "___\n",
        "\n",
        "**決策樹模型結果:**\n",
        "\n",
        "* 精確度 (Precision):\n",
        "\n",
        " * 類別 0: 0.78，表示當模型預測為 0 的時候，實際上有 78% 的機會是正確的。\n",
        "\n",
        " * 類別 1: 0.96，表示當模型預測為 1 的時候，實際上有 96% 的機會是正確的。\n",
        "\n",
        "* 召回率 (Recall):\n",
        "\n",
        " * 類別 0: 0.97，表示在實際為 0 的樣本中，模型成功預測的比例為 97%。\n",
        "\n",
        " * 類別 1: 0.75，表示在實際為 1 的樣本中，模型成功預測的比例為 75%。\n",
        "\n",
        "* F1 分數 (F1-Score):\n",
        "\n",
        " * 類別 0: 0.86，是精確度和召回率的調和平均值。\n",
        "\n",
        " * 類別 1: 0.84，是精確度和召回率的調和平均值。\n",
        "\n",
        "* 準確度 (Accuracy): 0.85，表示模型正確預測的樣本比例為 85%。\n",
        "___\n",
        "\n",
        "**XGBoost 模型結果:**\n",
        "\n",
        "* 精確度 (Precision):\n",
        "\n",
        " * 類別 0: 0.73，表示當模型預測為 0 的時候，實際上有 73% 的機會是正確的。\n",
        "\n",
        " * 類別 1: 0.82，表示當模型預測為 1 的時候，實際上有 82% 的機會是正確的。\n",
        "\n",
        "* 召回率 (Recall):\n",
        "\n",
        " * 類別 0: 0.83，表示在實際為 0 的樣本中，模型成功預測的比例為 83%。\n",
        "\n",
        " * 類別 1: 0.72，表示在實際為 1 的樣本中，模型成功預測的比例為 72%。\n",
        "\n",
        "* F1 分數 (F1-Score):\n",
        "\n",
        " * 類別 0: 0.77，是精確度和召回率的調和平均值。\n",
        "\n",
        " * 類別 1: 0.77，是精確度和召回率的調和平均值。\n",
        "\n",
        "* 準確度 (Accuracy): 0.77，表示模型正確預測的樣本比例為 77%。\n",
        "___\n",
        "**比較:**\n",
        "\n",
        "1. 在測試集上，SVM 模型的精確度和召回率都相對較高，F1 分數也相當不錯，準確度為\n",
        "87%。這意味著 SVM 模型在測試數據上的性能相對不錯，能夠相對準確地預測心臟病患者和\n",
        "非患者。\n",
        "\n",
        "2. 決策樹模型在測試集上的召回率相對較高，但精確度稍低，F1 分數為 0.85，準確度為\n",
        "85%。這意味著決策樹模型在區分實際心臟病患者方面相對不錯。\n",
        "\n",
        "3. XGBoost 模型在這個測試集上的性能相對較差，需要進一步的調優或者考慮其他模型。\n",
        "\n",
        "4. XGBoost在訓練集是三個模型中分類表現最好的，但到了測試及卻是表現最差的，可能發生了過度擬合（Overfitting）的狀況\n"
      ],
      "metadata": {
        "id": "HfHKV4w_sQY9"
      }
    }
  ]
}