{
  "nbformat": 4,
  "nbformat_minor": 0,
  "metadata": {
    "colab": {
      "provenance": [],
      "gpuType": "T4",
      "authorship_tag": "ABX9TyNDMygbykoptuE9mTNbZFq+",
      "include_colab_link": true
    },
    "kernelspec": {
      "name": "python3",
      "display_name": "Python 3"
    },
    "language_info": {
      "name": "python"
    },
    "accelerator": "GPU"
  },
  "cells": [
    {
      "cell_type": "markdown",
      "metadata": {
        "id": "view-in-github",
        "colab_type": "text"
      },
      "source": [
        "<a href=\"https://colab.research.google.com/github/AveryHsieh/Machine-Learning/blob/main/Dataset_of_songs_in_Spotify.ipynb\" target=\"_parent\"><img src=\"https://colab.research.google.com/assets/colab-badge.svg\" alt=\"Open In Colab\"/></a>"
      ]
    },
    {
      "cell_type": "markdown",
      "source": [
        "# 分群 (Cluster Analysis)練習 :\n",
        "1. 使用Spotify的音樂資料集，實作 3 種不同分群方法(Partitioning Method、\n",
        "Hierarchical Method、Density-Based Method)，各選一種。\n",
        "2. 將 3 種分群的結果分別轉換成預測類別，並和 label 計算 confusion matrix 並使用熱圖視覺化。\n",
        "3. 評估 3 種分群方法的預測結果，並比較三種不同的分群方式在本次任務下誰的效果較好。(有 label 或無 label 的評估方式都要有)"
      ],
      "metadata": {
        "id": "538CkS5RU2ny"
      }
    },
    {
      "cell_type": "markdown",
      "source": [
        "##載入函式庫（libraries）"
      ],
      "metadata": {
        "id": "EhmcwmPMWpvv"
      }
    },
    {
      "cell_type": "code",
      "source": [
        "import pandas as pd\n",
        "from sklearn.cluster import KMeans, AgglomerativeClustering, DBSCAN\n",
        "from sklearn.preprocessing import StandardScaler\n",
        "from sklearn.metrics import confusion_matrix\n",
        "import seaborn as sns\n",
        "import matplotlib.pyplot as plt\n",
        "from sklearn.preprocessing import LabelEncoder\n",
        "import numpy as np"
      ],
      "metadata": {
        "id": "oqymOpWyWqAc"
      },
      "execution_count": null,
      "outputs": []
    },
    {
      "cell_type": "markdown",
      "source": [
        "## 導入data set\n",
        "\n",
        "\n",
        "資料集來源 : https://www.kaggle.com/datasets/mrmorj/dataset-of-songs-in-spotify\n",
        "\n",
        "連接Google Drive，並使用read_csv()函數導入CSV格式的數據集"
      ],
      "metadata": {
        "id": "fC2lu5-CWWf7"
      }
    },
    {
      "cell_type": "code",
      "execution_count": null,
      "metadata": {
        "colab": {
          "base_uri": "https://localhost:8080/"
        },
        "id": "PwVsYp5VUmZ3",
        "outputId": "f7e63c5e-ce6e-4db3-8474-7fb5b6143709"
      },
      "outputs": [
        {
          "output_type": "stream",
          "name": "stdout",
          "text": [
            "Mounted at /content/drive\n"
          ]
        },
        {
          "output_type": "stream",
          "name": "stderr",
          "text": [
            "<ipython-input-3-565b8157df20>:5: DtypeWarning: Columns (19) have mixed types. Specify dtype option on import or set low_memory=False.\n",
            "  data_all = pd.read_csv(\"/content/drive/MyDrive/112-1/機器學習觀念與應用/練習四/genres_v2.csv\")\n"
          ]
        }
      ],
      "source": [
        "#連接Google雲端硬碟\n",
        "from google.colab import drive\n",
        "drive.mount('/content/drive')\n",
        "\n",
        "data_all = pd.read_csv(\"/content/drive/MyDrive/112-1/機器學習觀念與應用/練習四/genres_v2.csv\")"
      ]
    },
    {
      "cell_type": "markdown",
      "source": [
        "## 查看資料集"
      ],
      "metadata": {
        "id": "Nr7wjBVoo1ag"
      }
    },
    {
      "cell_type": "code",
      "source": [
        "data_all.head()"
      ],
      "metadata": {
        "colab": {
          "base_uri": "https://localhost:8080/",
          "height": 394
        },
        "id": "HUkeDCnBXDxI",
        "outputId": "92015403-23fe-4ce8-c19d-28764e0874e0"
      },
      "execution_count": null,
      "outputs": [
        {
          "output_type": "execute_result",
          "data": {
            "text/plain": [
              "   danceability  energy  key  loudness  mode  speechiness  acousticness  \\\n",
              "0         0.831   0.814    2    -7.364     1       0.4200        0.0598   \n",
              "1         0.719   0.493    8    -7.230     1       0.0794        0.4010   \n",
              "2         0.850   0.893    5    -4.783     1       0.0623        0.0138   \n",
              "3         0.476   0.781    0    -4.710     1       0.1030        0.0237   \n",
              "4         0.798   0.624    2    -7.668     1       0.2930        0.2170   \n",
              "\n",
              "   instrumentalness  liveness  valence  ...                      id  \\\n",
              "0          0.013400    0.0556   0.3890  ...  2Vc6NJ9PW9gD9q343XFRKx   \n",
              "1          0.000000    0.1180   0.1240  ...  7pgJBLVz5VmnL7uGHmRj6p   \n",
              "2          0.000004    0.3720   0.0391  ...  0vSWgAlfpye0WCGeNmuNhy   \n",
              "3          0.000000    0.1140   0.1750  ...  0VSXnJqQkwuH2ei1nOQ1nu   \n",
              "4          0.000000    0.1660   0.5910  ...  4jCeguq9rMTlbMmPHuO7S3   \n",
              "\n",
              "                                    uri  \\\n",
              "0  spotify:track:2Vc6NJ9PW9gD9q343XFRKx   \n",
              "1  spotify:track:7pgJBLVz5VmnL7uGHmRj6p   \n",
              "2  spotify:track:0vSWgAlfpye0WCGeNmuNhy   \n",
              "3  spotify:track:0VSXnJqQkwuH2ei1nOQ1nu   \n",
              "4  spotify:track:4jCeguq9rMTlbMmPHuO7S3   \n",
              "\n",
              "                                          track_href  \\\n",
              "0  https://api.spotify.com/v1/tracks/2Vc6NJ9PW9gD...   \n",
              "1  https://api.spotify.com/v1/tracks/7pgJBLVz5Vmn...   \n",
              "2  https://api.spotify.com/v1/tracks/0vSWgAlfpye0...   \n",
              "3  https://api.spotify.com/v1/tracks/0VSXnJqQkwuH...   \n",
              "4  https://api.spotify.com/v1/tracks/4jCeguq9rMTl...   \n",
              "\n",
              "                                        analysis_url duration_ms  \\\n",
              "0  https://api.spotify.com/v1/audio-analysis/2Vc6...      124539   \n",
              "1  https://api.spotify.com/v1/audio-analysis/7pgJ...      224427   \n",
              "2  https://api.spotify.com/v1/audio-analysis/0vSW...       98821   \n",
              "3  https://api.spotify.com/v1/audio-analysis/0VSX...      123661   \n",
              "4  https://api.spotify.com/v1/audio-analysis/4jCe...      123298   \n",
              "\n",
              "  time_signature      genre                                      song_name  \\\n",
              "0              4  Dark Trap                            Mercury: Retrograde   \n",
              "1              4  Dark Trap                                      Pathology   \n",
              "2              4  Dark Trap                                       Symbiote   \n",
              "3              3  Dark Trap  ProductOfDrugs (Prod. The Virus and Antidote)   \n",
              "4              4  Dark Trap                                          Venom   \n",
              "\n",
              "  Unnamed: 0 title  \n",
              "0        NaN   NaN  \n",
              "1        NaN   NaN  \n",
              "2        NaN   NaN  \n",
              "3        NaN   NaN  \n",
              "4        NaN   NaN  \n",
              "\n",
              "[5 rows x 22 columns]"
            ],
            "text/html": [
              "\n",
              "  <div id=\"df-ddcabf3e-27cb-4f08-a1cf-7e7deeb6af9e\" class=\"colab-df-container\">\n",
              "    <div>\n",
              "<style scoped>\n",
              "    .dataframe tbody tr th:only-of-type {\n",
              "        vertical-align: middle;\n",
              "    }\n",
              "\n",
              "    .dataframe tbody tr th {\n",
              "        vertical-align: top;\n",
              "    }\n",
              "\n",
              "    .dataframe thead th {\n",
              "        text-align: right;\n",
              "    }\n",
              "</style>\n",
              "<table border=\"1\" class=\"dataframe\">\n",
              "  <thead>\n",
              "    <tr style=\"text-align: right;\">\n",
              "      <th></th>\n",
              "      <th>danceability</th>\n",
              "      <th>energy</th>\n",
              "      <th>key</th>\n",
              "      <th>loudness</th>\n",
              "      <th>mode</th>\n",
              "      <th>speechiness</th>\n",
              "      <th>acousticness</th>\n",
              "      <th>instrumentalness</th>\n",
              "      <th>liveness</th>\n",
              "      <th>valence</th>\n",
              "      <th>...</th>\n",
              "      <th>id</th>\n",
              "      <th>uri</th>\n",
              "      <th>track_href</th>\n",
              "      <th>analysis_url</th>\n",
              "      <th>duration_ms</th>\n",
              "      <th>time_signature</th>\n",
              "      <th>genre</th>\n",
              "      <th>song_name</th>\n",
              "      <th>Unnamed: 0</th>\n",
              "      <th>title</th>\n",
              "    </tr>\n",
              "  </thead>\n",
              "  <tbody>\n",
              "    <tr>\n",
              "      <th>0</th>\n",
              "      <td>0.831</td>\n",
              "      <td>0.814</td>\n",
              "      <td>2</td>\n",
              "      <td>-7.364</td>\n",
              "      <td>1</td>\n",
              "      <td>0.4200</td>\n",
              "      <td>0.0598</td>\n",
              "      <td>0.013400</td>\n",
              "      <td>0.0556</td>\n",
              "      <td>0.3890</td>\n",
              "      <td>...</td>\n",
              "      <td>2Vc6NJ9PW9gD9q343XFRKx</td>\n",
              "      <td>spotify:track:2Vc6NJ9PW9gD9q343XFRKx</td>\n",
              "      <td>https://api.spotify.com/v1/tracks/2Vc6NJ9PW9gD...</td>\n",
              "      <td>https://api.spotify.com/v1/audio-analysis/2Vc6...</td>\n",
              "      <td>124539</td>\n",
              "      <td>4</td>\n",
              "      <td>Dark Trap</td>\n",
              "      <td>Mercury: Retrograde</td>\n",
              "      <td>NaN</td>\n",
              "      <td>NaN</td>\n",
              "    </tr>\n",
              "    <tr>\n",
              "      <th>1</th>\n",
              "      <td>0.719</td>\n",
              "      <td>0.493</td>\n",
              "      <td>8</td>\n",
              "      <td>-7.230</td>\n",
              "      <td>1</td>\n",
              "      <td>0.0794</td>\n",
              "      <td>0.4010</td>\n",
              "      <td>0.000000</td>\n",
              "      <td>0.1180</td>\n",
              "      <td>0.1240</td>\n",
              "      <td>...</td>\n",
              "      <td>7pgJBLVz5VmnL7uGHmRj6p</td>\n",
              "      <td>spotify:track:7pgJBLVz5VmnL7uGHmRj6p</td>\n",
              "      <td>https://api.spotify.com/v1/tracks/7pgJBLVz5Vmn...</td>\n",
              "      <td>https://api.spotify.com/v1/audio-analysis/7pgJ...</td>\n",
              "      <td>224427</td>\n",
              "      <td>4</td>\n",
              "      <td>Dark Trap</td>\n",
              "      <td>Pathology</td>\n",
              "      <td>NaN</td>\n",
              "      <td>NaN</td>\n",
              "    </tr>\n",
              "    <tr>\n",
              "      <th>2</th>\n",
              "      <td>0.850</td>\n",
              "      <td>0.893</td>\n",
              "      <td>5</td>\n",
              "      <td>-4.783</td>\n",
              "      <td>1</td>\n",
              "      <td>0.0623</td>\n",
              "      <td>0.0138</td>\n",
              "      <td>0.000004</td>\n",
              "      <td>0.3720</td>\n",
              "      <td>0.0391</td>\n",
              "      <td>...</td>\n",
              "      <td>0vSWgAlfpye0WCGeNmuNhy</td>\n",
              "      <td>spotify:track:0vSWgAlfpye0WCGeNmuNhy</td>\n",
              "      <td>https://api.spotify.com/v1/tracks/0vSWgAlfpye0...</td>\n",
              "      <td>https://api.spotify.com/v1/audio-analysis/0vSW...</td>\n",
              "      <td>98821</td>\n",
              "      <td>4</td>\n",
              "      <td>Dark Trap</td>\n",
              "      <td>Symbiote</td>\n",
              "      <td>NaN</td>\n",
              "      <td>NaN</td>\n",
              "    </tr>\n",
              "    <tr>\n",
              "      <th>3</th>\n",
              "      <td>0.476</td>\n",
              "      <td>0.781</td>\n",
              "      <td>0</td>\n",
              "      <td>-4.710</td>\n",
              "      <td>1</td>\n",
              "      <td>0.1030</td>\n",
              "      <td>0.0237</td>\n",
              "      <td>0.000000</td>\n",
              "      <td>0.1140</td>\n",
              "      <td>0.1750</td>\n",
              "      <td>...</td>\n",
              "      <td>0VSXnJqQkwuH2ei1nOQ1nu</td>\n",
              "      <td>spotify:track:0VSXnJqQkwuH2ei1nOQ1nu</td>\n",
              "      <td>https://api.spotify.com/v1/tracks/0VSXnJqQkwuH...</td>\n",
              "      <td>https://api.spotify.com/v1/audio-analysis/0VSX...</td>\n",
              "      <td>123661</td>\n",
              "      <td>3</td>\n",
              "      <td>Dark Trap</td>\n",
              "      <td>ProductOfDrugs (Prod. The Virus and Antidote)</td>\n",
              "      <td>NaN</td>\n",
              "      <td>NaN</td>\n",
              "    </tr>\n",
              "    <tr>\n",
              "      <th>4</th>\n",
              "      <td>0.798</td>\n",
              "      <td>0.624</td>\n",
              "      <td>2</td>\n",
              "      <td>-7.668</td>\n",
              "      <td>1</td>\n",
              "      <td>0.2930</td>\n",
              "      <td>0.2170</td>\n",
              "      <td>0.000000</td>\n",
              "      <td>0.1660</td>\n",
              "      <td>0.5910</td>\n",
              "      <td>...</td>\n",
              "      <td>4jCeguq9rMTlbMmPHuO7S3</td>\n",
              "      <td>spotify:track:4jCeguq9rMTlbMmPHuO7S3</td>\n",
              "      <td>https://api.spotify.com/v1/tracks/4jCeguq9rMTl...</td>\n",
              "      <td>https://api.spotify.com/v1/audio-analysis/4jCe...</td>\n",
              "      <td>123298</td>\n",
              "      <td>4</td>\n",
              "      <td>Dark Trap</td>\n",
              "      <td>Venom</td>\n",
              "      <td>NaN</td>\n",
              "      <td>NaN</td>\n",
              "    </tr>\n",
              "  </tbody>\n",
              "</table>\n",
              "<p>5 rows × 22 columns</p>\n",
              "</div>\n",
              "    <div class=\"colab-df-buttons\">\n",
              "\n",
              "  <div class=\"colab-df-container\">\n",
              "    <button class=\"colab-df-convert\" onclick=\"convertToInteractive('df-ddcabf3e-27cb-4f08-a1cf-7e7deeb6af9e')\"\n",
              "            title=\"Convert this dataframe to an interactive table.\"\n",
              "            style=\"display:none;\">\n",
              "\n",
              "  <svg xmlns=\"http://www.w3.org/2000/svg\" height=\"24px\" viewBox=\"0 -960 960 960\">\n",
              "    <path d=\"M120-120v-720h720v720H120Zm60-500h600v-160H180v160Zm220 220h160v-160H400v160Zm0 220h160v-160H400v160ZM180-400h160v-160H180v160Zm440 0h160v-160H620v160ZM180-180h160v-160H180v160Zm440 0h160v-160H620v160Z\"/>\n",
              "  </svg>\n",
              "    </button>\n",
              "\n",
              "  <style>\n",
              "    .colab-df-container {\n",
              "      display:flex;\n",
              "      gap: 12px;\n",
              "    }\n",
              "\n",
              "    .colab-df-convert {\n",
              "      background-color: #E8F0FE;\n",
              "      border: none;\n",
              "      border-radius: 50%;\n",
              "      cursor: pointer;\n",
              "      display: none;\n",
              "      fill: #1967D2;\n",
              "      height: 32px;\n",
              "      padding: 0 0 0 0;\n",
              "      width: 32px;\n",
              "    }\n",
              "\n",
              "    .colab-df-convert:hover {\n",
              "      background-color: #E2EBFA;\n",
              "      box-shadow: 0px 1px 2px rgba(60, 64, 67, 0.3), 0px 1px 3px 1px rgba(60, 64, 67, 0.15);\n",
              "      fill: #174EA6;\n",
              "    }\n",
              "\n",
              "    .colab-df-buttons div {\n",
              "      margin-bottom: 4px;\n",
              "    }\n",
              "\n",
              "    [theme=dark] .colab-df-convert {\n",
              "      background-color: #3B4455;\n",
              "      fill: #D2E3FC;\n",
              "    }\n",
              "\n",
              "    [theme=dark] .colab-df-convert:hover {\n",
              "      background-color: #434B5C;\n",
              "      box-shadow: 0px 1px 3px 1px rgba(0, 0, 0, 0.15);\n",
              "      filter: drop-shadow(0px 1px 2px rgba(0, 0, 0, 0.3));\n",
              "      fill: #FFFFFF;\n",
              "    }\n",
              "  </style>\n",
              "\n",
              "    <script>\n",
              "      const buttonEl =\n",
              "        document.querySelector('#df-ddcabf3e-27cb-4f08-a1cf-7e7deeb6af9e button.colab-df-convert');\n",
              "      buttonEl.style.display =\n",
              "        google.colab.kernel.accessAllowed ? 'block' : 'none';\n",
              "\n",
              "      async function convertToInteractive(key) {\n",
              "        const element = document.querySelector('#df-ddcabf3e-27cb-4f08-a1cf-7e7deeb6af9e');\n",
              "        const dataTable =\n",
              "          await google.colab.kernel.invokeFunction('convertToInteractive',\n",
              "                                                    [key], {});\n",
              "        if (!dataTable) return;\n",
              "\n",
              "        const docLinkHtml = 'Like what you see? Visit the ' +\n",
              "          '<a target=\"_blank\" href=https://colab.research.google.com/notebooks/data_table.ipynb>data table notebook</a>'\n",
              "          + ' to learn more about interactive tables.';\n",
              "        element.innerHTML = '';\n",
              "        dataTable['output_type'] = 'display_data';\n",
              "        await google.colab.output.renderOutput(dataTable, element);\n",
              "        const docLink = document.createElement('div');\n",
              "        docLink.innerHTML = docLinkHtml;\n",
              "        element.appendChild(docLink);\n",
              "      }\n",
              "    </script>\n",
              "  </div>\n",
              "\n",
              "\n",
              "<div id=\"df-78d9821b-35c6-4fe8-83a2-5c2cc9f14fa4\">\n",
              "  <button class=\"colab-df-quickchart\" onclick=\"quickchart('df-78d9821b-35c6-4fe8-83a2-5c2cc9f14fa4')\"\n",
              "            title=\"Suggest charts.\"\n",
              "            style=\"display:none;\">\n",
              "\n",
              "<svg xmlns=\"http://www.w3.org/2000/svg\" height=\"24px\"viewBox=\"0 0 24 24\"\n",
              "     width=\"24px\">\n",
              "    <g>\n",
              "        <path d=\"M19 3H5c-1.1 0-2 .9-2 2v14c0 1.1.9 2 2 2h14c1.1 0 2-.9 2-2V5c0-1.1-.9-2-2-2zM9 17H7v-7h2v7zm4 0h-2V7h2v10zm4 0h-2v-4h2v4z\"/>\n",
              "    </g>\n",
              "</svg>\n",
              "  </button>\n",
              "\n",
              "<style>\n",
              "  .colab-df-quickchart {\n",
              "      --bg-color: #E8F0FE;\n",
              "      --fill-color: #1967D2;\n",
              "      --hover-bg-color: #E2EBFA;\n",
              "      --hover-fill-color: #174EA6;\n",
              "      --disabled-fill-color: #AAA;\n",
              "      --disabled-bg-color: #DDD;\n",
              "  }\n",
              "\n",
              "  [theme=dark] .colab-df-quickchart {\n",
              "      --bg-color: #3B4455;\n",
              "      --fill-color: #D2E3FC;\n",
              "      --hover-bg-color: #434B5C;\n",
              "      --hover-fill-color: #FFFFFF;\n",
              "      --disabled-bg-color: #3B4455;\n",
              "      --disabled-fill-color: #666;\n",
              "  }\n",
              "\n",
              "  .colab-df-quickchart {\n",
              "    background-color: var(--bg-color);\n",
              "    border: none;\n",
              "    border-radius: 50%;\n",
              "    cursor: pointer;\n",
              "    display: none;\n",
              "    fill: var(--fill-color);\n",
              "    height: 32px;\n",
              "    padding: 0;\n",
              "    width: 32px;\n",
              "  }\n",
              "\n",
              "  .colab-df-quickchart:hover {\n",
              "    background-color: var(--hover-bg-color);\n",
              "    box-shadow: 0 1px 2px rgba(60, 64, 67, 0.3), 0 1px 3px 1px rgba(60, 64, 67, 0.15);\n",
              "    fill: var(--button-hover-fill-color);\n",
              "  }\n",
              "\n",
              "  .colab-df-quickchart-complete:disabled,\n",
              "  .colab-df-quickchart-complete:disabled:hover {\n",
              "    background-color: var(--disabled-bg-color);\n",
              "    fill: var(--disabled-fill-color);\n",
              "    box-shadow: none;\n",
              "  }\n",
              "\n",
              "  .colab-df-spinner {\n",
              "    border: 2px solid var(--fill-color);\n",
              "    border-color: transparent;\n",
              "    border-bottom-color: var(--fill-color);\n",
              "    animation:\n",
              "      spin 1s steps(1) infinite;\n",
              "  }\n",
              "\n",
              "  @keyframes spin {\n",
              "    0% {\n",
              "      border-color: transparent;\n",
              "      border-bottom-color: var(--fill-color);\n",
              "      border-left-color: var(--fill-color);\n",
              "    }\n",
              "    20% {\n",
              "      border-color: transparent;\n",
              "      border-left-color: var(--fill-color);\n",
              "      border-top-color: var(--fill-color);\n",
              "    }\n",
              "    30% {\n",
              "      border-color: transparent;\n",
              "      border-left-color: var(--fill-color);\n",
              "      border-top-color: var(--fill-color);\n",
              "      border-right-color: var(--fill-color);\n",
              "    }\n",
              "    40% {\n",
              "      border-color: transparent;\n",
              "      border-right-color: var(--fill-color);\n",
              "      border-top-color: var(--fill-color);\n",
              "    }\n",
              "    60% {\n",
              "      border-color: transparent;\n",
              "      border-right-color: var(--fill-color);\n",
              "    }\n",
              "    80% {\n",
              "      border-color: transparent;\n",
              "      border-right-color: var(--fill-color);\n",
              "      border-bottom-color: var(--fill-color);\n",
              "    }\n",
              "    90% {\n",
              "      border-color: transparent;\n",
              "      border-bottom-color: var(--fill-color);\n",
              "    }\n",
              "  }\n",
              "</style>\n",
              "\n",
              "  <script>\n",
              "    async function quickchart(key) {\n",
              "      const quickchartButtonEl =\n",
              "        document.querySelector('#' + key + ' button');\n",
              "      quickchartButtonEl.disabled = true;  // To prevent multiple clicks.\n",
              "      quickchartButtonEl.classList.add('colab-df-spinner');\n",
              "      try {\n",
              "        const charts = await google.colab.kernel.invokeFunction(\n",
              "            'suggestCharts', [key], {});\n",
              "      } catch (error) {\n",
              "        console.error('Error during call to suggestCharts:', error);\n",
              "      }\n",
              "      quickchartButtonEl.classList.remove('colab-df-spinner');\n",
              "      quickchartButtonEl.classList.add('colab-df-quickchart-complete');\n",
              "    }\n",
              "    (() => {\n",
              "      let quickchartButtonEl =\n",
              "        document.querySelector('#df-78d9821b-35c6-4fe8-83a2-5c2cc9f14fa4 button');\n",
              "      quickchartButtonEl.style.display =\n",
              "        google.colab.kernel.accessAllowed ? 'block' : 'none';\n",
              "    })();\n",
              "  </script>\n",
              "</div>\n",
              "    </div>\n",
              "  </div>\n"
            ]
          },
          "metadata": {},
          "execution_count": 4
        }
      ]
    },
    {
      "cell_type": "code",
      "source": [
        "data_all.info()"
      ],
      "metadata": {
        "colab": {
          "base_uri": "https://localhost:8080/"
        },
        "id": "kUrS29ZrXEcn",
        "outputId": "f2bc33b0-375d-4410-9da5-e726b4854045"
      },
      "execution_count": null,
      "outputs": [
        {
          "output_type": "stream",
          "name": "stdout",
          "text": [
            "<class 'pandas.core.frame.DataFrame'>\n",
            "RangeIndex: 42305 entries, 0 to 42304\n",
            "Data columns (total 22 columns):\n",
            " #   Column            Non-Null Count  Dtype  \n",
            "---  ------            --------------  -----  \n",
            " 0   danceability      42305 non-null  float64\n",
            " 1   energy            42305 non-null  float64\n",
            " 2   key               42305 non-null  int64  \n",
            " 3   loudness          42305 non-null  float64\n",
            " 4   mode              42305 non-null  int64  \n",
            " 5   speechiness       42305 non-null  float64\n",
            " 6   acousticness      42305 non-null  float64\n",
            " 7   instrumentalness  42305 non-null  float64\n",
            " 8   liveness          42305 non-null  float64\n",
            " 9   valence           42305 non-null  float64\n",
            " 10  tempo             42305 non-null  float64\n",
            " 11  type              42305 non-null  object \n",
            " 12  id                42305 non-null  object \n",
            " 13  uri               42305 non-null  object \n",
            " 14  track_href        42305 non-null  object \n",
            " 15  analysis_url      42305 non-null  object \n",
            " 16  duration_ms       42305 non-null  int64  \n",
            " 17  time_signature    42305 non-null  int64  \n",
            " 18  genre             42305 non-null  object \n",
            " 19  song_name         21519 non-null  object \n",
            " 20  Unnamed: 0        20780 non-null  float64\n",
            " 21  title             20780 non-null  object \n",
            "dtypes: float64(10), int64(4), object(8)\n",
            "memory usage: 7.1+ MB\n"
          ]
        }
      ]
    },
    {
      "cell_type": "code",
      "source": [
        "# 確認有無NA值\n",
        "data_all.isnull().sum()"
      ],
      "metadata": {
        "colab": {
          "base_uri": "https://localhost:8080/"
        },
        "id": "uBpbNzVelski",
        "outputId": "ce6b2c55-501f-40e2-d9ea-061af5f08479"
      },
      "execution_count": null,
      "outputs": [
        {
          "output_type": "execute_result",
          "data": {
            "text/plain": [
              "danceability            0\n",
              "energy                  0\n",
              "key                     0\n",
              "loudness                0\n",
              "mode                    0\n",
              "speechiness             0\n",
              "acousticness            0\n",
              "instrumentalness        0\n",
              "liveness                0\n",
              "valence                 0\n",
              "tempo                   0\n",
              "type                    0\n",
              "id                      0\n",
              "uri                     0\n",
              "track_href              0\n",
              "analysis_url            0\n",
              "duration_ms             0\n",
              "time_signature          0\n",
              "genre                   0\n",
              "song_name           20786\n",
              "Unnamed: 0          21525\n",
              "title               21525\n",
              "dtype: int64"
            ]
          },
          "metadata": {},
          "execution_count": 6
        }
      ]
    },
    {
      "cell_type": "code",
      "source": [
        "answer.head()"
      ],
      "metadata": {
        "colab": {
          "base_uri": "https://localhost:8080/",
          "height": 206
        },
        "id": "-3V5iq-1JGgA",
        "outputId": "ef2e21c7-a714-40a7-ed9c-6260659f24fa"
      },
      "execution_count": null,
      "outputs": [
        {
          "output_type": "execute_result",
          "data": {
            "text/plain": [
              "                 Playlist      Genre\n",
              "0  19WuHd4MxWLzE1fpMmw4S4  Dark Trap\n",
              "1  6XyR8uzgkSoDzHuOxxRtLH  Dark Trap\n",
              "2  37Ij3ofyhvEhFEH8YZMZ2X  Dark Trap\n",
              "3  07zTlfPpsxeoWdumbkNWMI  Dark Trap\n",
              "4  2dClSRLsnptdkDQnpi5H2f  Dark Trap"
            ],
            "text/html": [
              "\n",
              "  <div id=\"df-d7638317-dfb7-4f75-aebb-f1dc1ce59b51\" class=\"colab-df-container\">\n",
              "    <div>\n",
              "<style scoped>\n",
              "    .dataframe tbody tr th:only-of-type {\n",
              "        vertical-align: middle;\n",
              "    }\n",
              "\n",
              "    .dataframe tbody tr th {\n",
              "        vertical-align: top;\n",
              "    }\n",
              "\n",
              "    .dataframe thead th {\n",
              "        text-align: right;\n",
              "    }\n",
              "</style>\n",
              "<table border=\"1\" class=\"dataframe\">\n",
              "  <thead>\n",
              "    <tr style=\"text-align: right;\">\n",
              "      <th></th>\n",
              "      <th>Playlist</th>\n",
              "      <th>Genre</th>\n",
              "    </tr>\n",
              "  </thead>\n",
              "  <tbody>\n",
              "    <tr>\n",
              "      <th>0</th>\n",
              "      <td>19WuHd4MxWLzE1fpMmw4S4</td>\n",
              "      <td>Dark Trap</td>\n",
              "    </tr>\n",
              "    <tr>\n",
              "      <th>1</th>\n",
              "      <td>6XyR8uzgkSoDzHuOxxRtLH</td>\n",
              "      <td>Dark Trap</td>\n",
              "    </tr>\n",
              "    <tr>\n",
              "      <th>2</th>\n",
              "      <td>37Ij3ofyhvEhFEH8YZMZ2X</td>\n",
              "      <td>Dark Trap</td>\n",
              "    </tr>\n",
              "    <tr>\n",
              "      <th>3</th>\n",
              "      <td>07zTlfPpsxeoWdumbkNWMI</td>\n",
              "      <td>Dark Trap</td>\n",
              "    </tr>\n",
              "    <tr>\n",
              "      <th>4</th>\n",
              "      <td>2dClSRLsnptdkDQnpi5H2f</td>\n",
              "      <td>Dark Trap</td>\n",
              "    </tr>\n",
              "  </tbody>\n",
              "</table>\n",
              "</div>\n",
              "    <div class=\"colab-df-buttons\">\n",
              "\n",
              "  <div class=\"colab-df-container\">\n",
              "    <button class=\"colab-df-convert\" onclick=\"convertToInteractive('df-d7638317-dfb7-4f75-aebb-f1dc1ce59b51')\"\n",
              "            title=\"Convert this dataframe to an interactive table.\"\n",
              "            style=\"display:none;\">\n",
              "\n",
              "  <svg xmlns=\"http://www.w3.org/2000/svg\" height=\"24px\" viewBox=\"0 -960 960 960\">\n",
              "    <path d=\"M120-120v-720h720v720H120Zm60-500h600v-160H180v160Zm220 220h160v-160H400v160Zm0 220h160v-160H400v160ZM180-400h160v-160H180v160Zm440 0h160v-160H620v160ZM180-180h160v-160H180v160Zm440 0h160v-160H620v160Z\"/>\n",
              "  </svg>\n",
              "    </button>\n",
              "\n",
              "  <style>\n",
              "    .colab-df-container {\n",
              "      display:flex;\n",
              "      gap: 12px;\n",
              "    }\n",
              "\n",
              "    .colab-df-convert {\n",
              "      background-color: #E8F0FE;\n",
              "      border: none;\n",
              "      border-radius: 50%;\n",
              "      cursor: pointer;\n",
              "      display: none;\n",
              "      fill: #1967D2;\n",
              "      height: 32px;\n",
              "      padding: 0 0 0 0;\n",
              "      width: 32px;\n",
              "    }\n",
              "\n",
              "    .colab-df-convert:hover {\n",
              "      background-color: #E2EBFA;\n",
              "      box-shadow: 0px 1px 2px rgba(60, 64, 67, 0.3), 0px 1px 3px 1px rgba(60, 64, 67, 0.15);\n",
              "      fill: #174EA6;\n",
              "    }\n",
              "\n",
              "    .colab-df-buttons div {\n",
              "      margin-bottom: 4px;\n",
              "    }\n",
              "\n",
              "    [theme=dark] .colab-df-convert {\n",
              "      background-color: #3B4455;\n",
              "      fill: #D2E3FC;\n",
              "    }\n",
              "\n",
              "    [theme=dark] .colab-df-convert:hover {\n",
              "      background-color: #434B5C;\n",
              "      box-shadow: 0px 1px 3px 1px rgba(0, 0, 0, 0.15);\n",
              "      filter: drop-shadow(0px 1px 2px rgba(0, 0, 0, 0.3));\n",
              "      fill: #FFFFFF;\n",
              "    }\n",
              "  </style>\n",
              "\n",
              "    <script>\n",
              "      const buttonEl =\n",
              "        document.querySelector('#df-d7638317-dfb7-4f75-aebb-f1dc1ce59b51 button.colab-df-convert');\n",
              "      buttonEl.style.display =\n",
              "        google.colab.kernel.accessAllowed ? 'block' : 'none';\n",
              "\n",
              "      async function convertToInteractive(key) {\n",
              "        const element = document.querySelector('#df-d7638317-dfb7-4f75-aebb-f1dc1ce59b51');\n",
              "        const dataTable =\n",
              "          await google.colab.kernel.invokeFunction('convertToInteractive',\n",
              "                                                    [key], {});\n",
              "        if (!dataTable) return;\n",
              "\n",
              "        const docLinkHtml = 'Like what you see? Visit the ' +\n",
              "          '<a target=\"_blank\" href=https://colab.research.google.com/notebooks/data_table.ipynb>data table notebook</a>'\n",
              "          + ' to learn more about interactive tables.';\n",
              "        element.innerHTML = '';\n",
              "        dataTable['output_type'] = 'display_data';\n",
              "        await google.colab.output.renderOutput(dataTable, element);\n",
              "        const docLink = document.createElement('div');\n",
              "        docLink.innerHTML = docLinkHtml;\n",
              "        element.appendChild(docLink);\n",
              "      }\n",
              "    </script>\n",
              "  </div>\n",
              "\n",
              "\n",
              "<div id=\"df-76740404-2533-41f5-8566-c21520340f4c\">\n",
              "  <button class=\"colab-df-quickchart\" onclick=\"quickchart('df-76740404-2533-41f5-8566-c21520340f4c')\"\n",
              "            title=\"Suggest charts.\"\n",
              "            style=\"display:none;\">\n",
              "\n",
              "<svg xmlns=\"http://www.w3.org/2000/svg\" height=\"24px\"viewBox=\"0 0 24 24\"\n",
              "     width=\"24px\">\n",
              "    <g>\n",
              "        <path d=\"M19 3H5c-1.1 0-2 .9-2 2v14c0 1.1.9 2 2 2h14c1.1 0 2-.9 2-2V5c0-1.1-.9-2-2-2zM9 17H7v-7h2v7zm4 0h-2V7h2v10zm4 0h-2v-4h2v4z\"/>\n",
              "    </g>\n",
              "</svg>\n",
              "  </button>\n",
              "\n",
              "<style>\n",
              "  .colab-df-quickchart {\n",
              "      --bg-color: #E8F0FE;\n",
              "      --fill-color: #1967D2;\n",
              "      --hover-bg-color: #E2EBFA;\n",
              "      --hover-fill-color: #174EA6;\n",
              "      --disabled-fill-color: #AAA;\n",
              "      --disabled-bg-color: #DDD;\n",
              "  }\n",
              "\n",
              "  [theme=dark] .colab-df-quickchart {\n",
              "      --bg-color: #3B4455;\n",
              "      --fill-color: #D2E3FC;\n",
              "      --hover-bg-color: #434B5C;\n",
              "      --hover-fill-color: #FFFFFF;\n",
              "      --disabled-bg-color: #3B4455;\n",
              "      --disabled-fill-color: #666;\n",
              "  }\n",
              "\n",
              "  .colab-df-quickchart {\n",
              "    background-color: var(--bg-color);\n",
              "    border: none;\n",
              "    border-radius: 50%;\n",
              "    cursor: pointer;\n",
              "    display: none;\n",
              "    fill: var(--fill-color);\n",
              "    height: 32px;\n",
              "    padding: 0;\n",
              "    width: 32px;\n",
              "  }\n",
              "\n",
              "  .colab-df-quickchart:hover {\n",
              "    background-color: var(--hover-bg-color);\n",
              "    box-shadow: 0 1px 2px rgba(60, 64, 67, 0.3), 0 1px 3px 1px rgba(60, 64, 67, 0.15);\n",
              "    fill: var(--button-hover-fill-color);\n",
              "  }\n",
              "\n",
              "  .colab-df-quickchart-complete:disabled,\n",
              "  .colab-df-quickchart-complete:disabled:hover {\n",
              "    background-color: var(--disabled-bg-color);\n",
              "    fill: var(--disabled-fill-color);\n",
              "    box-shadow: none;\n",
              "  }\n",
              "\n",
              "  .colab-df-spinner {\n",
              "    border: 2px solid var(--fill-color);\n",
              "    border-color: transparent;\n",
              "    border-bottom-color: var(--fill-color);\n",
              "    animation:\n",
              "      spin 1s steps(1) infinite;\n",
              "  }\n",
              "\n",
              "  @keyframes spin {\n",
              "    0% {\n",
              "      border-color: transparent;\n",
              "      border-bottom-color: var(--fill-color);\n",
              "      border-left-color: var(--fill-color);\n",
              "    }\n",
              "    20% {\n",
              "      border-color: transparent;\n",
              "      border-left-color: var(--fill-color);\n",
              "      border-top-color: var(--fill-color);\n",
              "    }\n",
              "    30% {\n",
              "      border-color: transparent;\n",
              "      border-left-color: var(--fill-color);\n",
              "      border-top-color: var(--fill-color);\n",
              "      border-right-color: var(--fill-color);\n",
              "    }\n",
              "    40% {\n",
              "      border-color: transparent;\n",
              "      border-right-color: var(--fill-color);\n",
              "      border-top-color: var(--fill-color);\n",
              "    }\n",
              "    60% {\n",
              "      border-color: transparent;\n",
              "      border-right-color: var(--fill-color);\n",
              "    }\n",
              "    80% {\n",
              "      border-color: transparent;\n",
              "      border-right-color: var(--fill-color);\n",
              "      border-bottom-color: var(--fill-color);\n",
              "    }\n",
              "    90% {\n",
              "      border-color: transparent;\n",
              "      border-bottom-color: var(--fill-color);\n",
              "    }\n",
              "  }\n",
              "</style>\n",
              "\n",
              "  <script>\n",
              "    async function quickchart(key) {\n",
              "      const quickchartButtonEl =\n",
              "        document.querySelector('#' + key + ' button');\n",
              "      quickchartButtonEl.disabled = true;  // To prevent multiple clicks.\n",
              "      quickchartButtonEl.classList.add('colab-df-spinner');\n",
              "      try {\n",
              "        const charts = await google.colab.kernel.invokeFunction(\n",
              "            'suggestCharts', [key], {});\n",
              "      } catch (error) {\n",
              "        console.error('Error during call to suggestCharts:', error);\n",
              "      }\n",
              "      quickchartButtonEl.classList.remove('colab-df-spinner');\n",
              "      quickchartButtonEl.classList.add('colab-df-quickchart-complete');\n",
              "    }\n",
              "    (() => {\n",
              "      let quickchartButtonEl =\n",
              "        document.querySelector('#df-76740404-2533-41f5-8566-c21520340f4c button');\n",
              "      quickchartButtonEl.style.display =\n",
              "        google.colab.kernel.accessAllowed ? 'block' : 'none';\n",
              "    })();\n",
              "  </script>\n",
              "</div>\n",
              "    </div>\n",
              "  </div>\n"
            ]
          },
          "metadata": {},
          "execution_count": 7
        }
      ]
    },
    {
      "cell_type": "code",
      "source": [
        "answer.info()"
      ],
      "metadata": {
        "colab": {
          "base_uri": "https://localhost:8080/"
        },
        "id": "Q6XMnr1jJLO1",
        "outputId": "70136a1a-aa1a-44ae-fd22-542b525b6785"
      },
      "execution_count": null,
      "outputs": [
        {
          "output_type": "stream",
          "name": "stdout",
          "text": [
            "<class 'pandas.core.frame.DataFrame'>\n",
            "RangeIndex: 39 entries, 0 to 38\n",
            "Data columns (total 2 columns):\n",
            " #   Column    Non-Null Count  Dtype \n",
            "---  ------    --------------  ----- \n",
            " 0   Playlist  39 non-null     object\n",
            " 1   Genre     39 non-null     object\n",
            "dtypes: object(2)\n",
            "memory usage: 752.0+ bytes\n"
          ]
        }
      ]
    },
    {
      "cell_type": "markdown",
      "source": [
        "# 模型實作與比較\n",
        "1. 實作 3 種不同分群方法(Partitioning Method、Hierarchical Method、Density-Based Method)，各選一種。\n",
        "\n"
      ],
      "metadata": {
        "id": "KcgIb5sAbcF6"
      }
    },
    {
      "cell_type": "code",
      "source": [
        "# 取6000筆sample\n",
        "data = data_all.sample(n=6000, random_state=1)\n",
        "\n",
        "# 提取特徵\n",
        "features=data.drop([\"title\",\"Unnamed: 0\",\"song_name\",\"analysis_url\",\"track_href\",\"uri\",\"id\",\"type\"],axis=1) #drop all non-numeric columns\n",
        "X=features.drop(\"genre\",axis=1)\n",
        "y=features[\"genre\"]\n",
        "\n",
        "\n",
        "# 將類別變數\"genre\"轉換成數字\n",
        "label_encoder = LabelEncoder()\n",
        "y_encoded = label_encoder.fit_transform(y)\n",
        "\n",
        "\n",
        "# 正規化特徵\n",
        "scaler = StandardScaler()\n",
        "scaled_features = scaler.fit_transform(X)"
      ],
      "metadata": {
        "id": "H44Y9KUeJXSK"
      },
      "execution_count": null,
      "outputs": []
    },
    {
      "cell_type": "markdown",
      "source": [
        "> Partitioning Method: K-means 分群"
      ],
      "metadata": {
        "id": "vARlKyd-PRpq"
      }
    },
    {
      "cell_type": "code",
      "source": [
        "from sklearn.cluster import KMeans\n",
        "# K-means 分群\n",
        "kmeans = KMeans(n_clusters=15, random_state=42)\n",
        "kmeans_labels = kmeans.fit_predict(scaled_features)\n"
      ],
      "metadata": {
        "id": "cx6XCCHpcegx",
        "colab": {
          "base_uri": "https://localhost:8080/"
        },
        "outputId": "1afe0dc6-50ad-4800-b81c-0392112ad9c3"
      },
      "execution_count": null,
      "outputs": [
        {
          "output_type": "stream",
          "name": "stderr",
          "text": [
            "/usr/local/lib/python3.10/dist-packages/sklearn/cluster/_kmeans.py:870: FutureWarning: The default value of `n_init` will change from 10 to 'auto' in 1.4. Set the value of `n_init` explicitly to suppress the warning\n",
            "  warnings.warn(\n"
          ]
        }
      ]
    },
    {
      "cell_type": "markdown",
      "source": [
        "> Hierarchical Method: Agglomerative Approach"
      ],
      "metadata": {
        "id": "ImhYKtgrPoYY"
      }
    },
    {
      "cell_type": "code",
      "source": [
        "# Agglomerative分群\n",
        "agg = AgglomerativeClustering(n_clusters=15)\n",
        "agg_labels = agg.fit_predict(scaled_features)\n"
      ],
      "metadata": {
        "id": "QEsTOty8Pbgr"
      },
      "execution_count": null,
      "outputs": []
    },
    {
      "cell_type": "code",
      "source": [
        "agg_labels"
      ],
      "metadata": {
        "colab": {
          "base_uri": "https://localhost:8080/"
        },
        "id": "J1Sm5R7ERbcY",
        "outputId": "a720c9b9-3e76-4014-cd3c-f6c186074d19"
      },
      "execution_count": null,
      "outputs": [
        {
          "output_type": "execute_result",
          "data": {
            "text/plain": [
              "array([ 8,  5,  2, ..., 10, 10,  9])"
            ]
          },
          "metadata": {},
          "execution_count": 12
        }
      ]
    },
    {
      "cell_type": "markdown",
      "source": [
        "> Density-Based Method: DBSCAN"
      ],
      "metadata": {
        "id": "M1SjR13xQ0uA"
      }
    },
    {
      "cell_type": "code",
      "source": [
        "# DBSCAN 分群\n",
        "dbscan = DBSCAN(eps=3, min_samples=5)\n",
        "dbscan_labels = dbscan.fit_predict(scaled_features)\n"
      ],
      "metadata": {
        "id": "beDvQBWbP4We"
      },
      "execution_count": null,
      "outputs": []
    },
    {
      "cell_type": "markdown",
      "source": [
        "2. 將 3 種分群的結果分別轉換成預測類別，並和 label 計算 confusion matrix 並使用熱圖視覺化。"
      ],
      "metadata": {
        "id": "WbDoBrxTQ_Cn"
      }
    },
    {
      "cell_type": "code",
      "source": [
        "# 將分群結果轉換為預測類別\n",
        "true_labels = data[\"genre\"]\n",
        "label_encoder = LabelEncoder()\n",
        "true_labels_encoded = label_encoder.fit_transform(true_labels)\n",
        "\n",
        "# 計算混淆矩陣\n",
        "kmeans_cm = confusion_matrix(true_labels_encoded, kmeans_labels)\n",
        "agg_cm = confusion_matrix(true_labels_encoded, agg_labels)\n",
        "dbscan_cm = confusion_matrix(true_labels_encoded, dbscan_labels)\n",
        "\n",
        "# 繪製熱圖\n",
        "plt.figure(figsize=(15, 5))\n",
        "plt.subplot(1, 3, 1)\n",
        "sns.heatmap(kmeans_cm, annot=True, fmt='g', cmap='Blues', xticklabels=[\"Class 0\", \"Class 1\"])\n",
        "plt.title(\"K-means Confusion Matrix\")\n",
        "plt.subplot(1, 3, 2)\n",
        "sns.heatmap(agg_cm, annot=True, fmt='g', cmap='Blues', xticklabels=[\"Class 0\", \"Class 1\"])\n",
        "plt.title(\"Agglomerative Confusion Matrix\")\n",
        "plt.subplot(1, 3, 3)\n",
        "sns.heatmap(dbscan_cm, annot=True, fmt='g', cmap='Blues', xticklabels=[\"Class 0\", \"Class 1\"])\n",
        "plt.title(\"DBSCAN Confusion Matrix\")\n",
        "plt.tight_layout()\n",
        "plt.show()"
      ],
      "metadata": {
        "colab": {
          "base_uri": "https://localhost:8080/",
          "height": 507
        },
        "id": "cO5Eg76SQzbt",
        "outputId": "b3e7124e-2204-48c7-ddb6-f437a811d93a"
      },
      "execution_count": null,
      "outputs": [
        {
          "output_type": "display_data",
          "data": {
            "text/plain": [
              "<Figure size 1500x500 with 6 Axes>"
            ],
            "image/png": "[encoded data removed]"
          },
          "metadata": {}
        }
      ]
    },
    {
      "cell_type": "markdown",
      "source": [
        "#分群結果評估\n",
        "3. 評估 3 種分群方法的預測結果，並比較三種不同的分群方式在本次任務下誰的效果較好。(有 label 或無 label 的評估方式都要有)"
      ],
      "metadata": {
        "id": "OEgfYuNQcnek"
      }
    },
    {
      "cell_type": "code",
      "source": [
        "from sklearn.metrics import fowlkes_mallows_score, silhouette_score"
      ],
      "metadata": {
        "id": "_4vHhXUlHQhJ"
      },
      "execution_count": null,
      "outputs": []
    },
    {
      "cell_type": "markdown",
      "source": [
        "##Fowlkes-Mallows Scores (有標準答案)\n",
        "Fowlkes-Mallows Scores measure the correctness of the cluster assignments using pairwise precision and recall. A higher score signifies higher similarity."
      ],
      "metadata": {
        "id": "P2fatlaLG8WK"
      }
    },
    {
      "cell_type": "code",
      "source": [
        "# 計算 K-means 分群的 FMS\n",
        "kmeans_fms = fowlkes_mallows_score(true_labels_encoded, kmeans_labels)\n",
        "\n",
        "# 計算層次分群的 FMS\n",
        "agg_fms = fowlkes_mallows_score(true_labels_encoded, agg_labels)\n",
        "\n",
        "# 計算 DBSCAN 分群的 FMS\n",
        "dbscan_fms = fowlkes_mallows_score(true_labels_encoded, dbscan_labels)\n",
        "\n",
        "# 輸出 silhouette score\n",
        "print(\"K-means Fowlkes-Mallows Score:\", kmeans_fms)\n",
        "print(\"Agglomerative Fowlkes-Mallows Score:\", agg_fms)\n",
        "print(\"DBSCAN Fowlkes-Mallows Score:\", dbscan_fms)"
      ],
      "metadata": {
        "colab": {
          "base_uri": "https://localhost:8080/"
        },
        "id": "-_JtWlTOHPWj",
        "outputId": "7645bb15-b677-4dab-dc01-3e74c09c51b7"
      },
      "execution_count": null,
      "outputs": [
        {
          "output_type": "stream",
          "name": "stdout",
          "text": [
            "K-means Fowlkes-Mallows Score: 0.20879584112775174\n",
            "Agglomerative Fowlkes-Mallows Score: 0.20888235066363012\n",
            "DBSCAN Fowlkes-Mallows Score: 0.2708287846150164\n"
          ]
        }
      ]
    },
    {
      "cell_type": "markdown",
      "source": [
        "**評估指標說明:**\n",
        "\n",
        "Fowlkes-Mallows Scores（FMI） FMI是成對的precision（精度）和recall（召回）的幾何平均數。取值範圍為 [0,1]，越接近1越好，其中1表示最佳匹配，即分群結果與真實標籤完全一致。\n",
        "\n",
        "原文網址：https://itw01.com/8HH9YE8.html\n",
        "___\n",
        "\n",
        "**根據程式計算所得的數據，在三個模型中:**\n",
        "* K-means跟Agglomerative的FMI非常接近，分別為0.20879584112775174(K-means)，及0.20888235066363012(Agglomerative)，兩者的分群效果差不多，Agglomerative略佳一些但沒有差很多。\n",
        "\n",
        "* DBSCAN的效果最好，Fowlkes-Mallows分數為0.2708287846150164，較其他兩種方法更接近1，這表示DBSCAN的分群結果在準確性和完整性方面都相對較好。\n",
        "\n",
        "* 分群效果排序: DBSCAN > Agglomerative > K-means\n",
        "\n",
        "不過，整體來說，0.27仍然不是一個很好的FMI值，有可能是因為sample選擇數量不夠多所導致。"
      ],
      "metadata": {
        "id": "bZhBJwE7KxED"
      }
    },
    {
      "cell_type": "markdown",
      "source": [
        "##Silhouette score (無標準答案)\n",
        "Silhouette Coefficient measures the between-cluster distance against within-cluster distance. A higher score signifies better-defined clusters."
      ],
      "metadata": {
        "id": "scVZ5k1Q5Bnl"
      }
    },
    {
      "cell_type": "code",
      "source": [
        "from sklearn.metrics import silhouette_score\n",
        "\n",
        "# 計算 K-means 分群的 Silhouette score\n",
        "kmeans_silhouette = silhouette_score(scaled_features, kmeans_labels)\n",
        "\n",
        "# 計算層次分群的 Silhouette score\n",
        "agg_silhouette = silhouette_score(scaled_features, agg_labels)\n",
        "\n",
        "# 計算 DBSCAN 分群的 Silhouette score（排除噪聲點）\n",
        "non_noise_indices = np.where(dbscan_labels != -1)[0]\n",
        "dbscan_silhouette = silhouette_score(scaled_features[non_noise_indices], dbscan_labels[non_noise_indices])\n",
        "\n",
        "# 輸出 Silhouette score\n",
        "print(\"K-means Silhouette Score:\", kmeans_silhouette)\n",
        "print(\"Agglomerative Silhouette Score:\", agg_silhouette)\n",
        "print(\"DBSCAN Silhouette Score (排除噪聲點):\", dbscan_silhouette)"
      ],
      "metadata": {
        "colab": {
          "base_uri": "https://localhost:8080/"
        },
        "id": "z3OamLQX4rW7",
        "outputId": "d1ea6053-a813-4793-a90c-d716aa09668d"
      },
      "execution_count": null,
      "outputs": [
        {
          "output_type": "stream",
          "name": "stdout",
          "text": [
            "K-means Silhouette Score: 0.11292748308800586\n",
            "Agglomerative Silhouette Score: 0.06542519020670635\n",
            "DBSCAN Silhouette Score (排除噪聲點): 0.21704898027249875\n"
          ]
        }
      ]
    },
    {
      "cell_type": "markdown",
      "source": [
        "**評估指標說明:**\n",
        "\n",
        "輪廓係數（Silhouette Coefficient）結合了聚類的凝聚度（Cohesion）和分離度（Separation），用於評估聚類的效果。該值處於-1~1之間，數值越大，表示聚類效果越好。\n",
        "\n",
        "\n",
        "\n",
        "原文網址：https://read01.com/R2oQBe.html\n",
        "___\n",
        "\n",
        "**根據程式計算所得的數據，在三個模型中:**\n",
        "* DBSCAN 的Silhouette score值最大，K-means次之，Agglomerative最小。\n",
        "\n",
        "* DBSCAN的分群效果最好\n",
        "\n",
        "* 分群效果排序: DBSCAN > K-means > Agglomerative\n"
      ],
      "metadata": {
        "id": "_aObHDXB1vaP"
      }
    },
    {
      "cell_type": "markdown",
      "source": [
        "### 分群結果評估總結\n",
        "用Fowlkes-Mallows Score 和 Silhouette Score兩個方法做評測，都是DBSCAN模型表現最好，但K-means 跟 Agglomerative的排序不一樣:\n",
        "\n",
        "* Fowlkes-Mallows Score分群效果排序: DBSCAN > Agglomerative > K-means\n",
        "\n",
        "* Silhouette Score分群效果排序: DBSCAN > K-means > Agglomerative\n",
        "\n",
        "\n",
        "   \n",
        "\n",
        "推測原因如下:\n",
        "\n",
        "Fowlkes-Mallows Score 和 Silhouette Score 是兩個不同的聚類評估指標，它們分別從不同的角度評估了聚類的效果，因此在相同的數據集上可能得出不同的結果。\n",
        "\n",
        "\n",
        "\n",
        "> Fowlkes-Mallows Score： 主要考慮了聚類結果中的精確性（Precision）和召回率（Recall），並且是基於真實標籤（ground truth）和聚類結果的交叉信息計算的。Fowlkes-Mallows Score 適用於有標籤的數據，並且對於真實標籤中的正確分類有較高的要求。\n",
        "\n",
        "\n",
        "\n",
        "> Silhouette Score： 主要評估了每個樣本與同簇中其他樣本的相似度（緊密度）和與最近非同簇樣本的相似度（分離度）。Silhouette Score 是基於樣本間的距離計算的，它可以用於有或沒有標籤的數據，並且對於簇內的緊密度和簇間的分離度有較高的要求。\n",
        "\n",
        "兩者因計算方式和依據不同，可能導致在相同數據集上得出不同的結果。在實際應用中，需根據任務需求和數據特性選擇適合的評估指標，綜合多個指標來評估聚類結果的優劣。"
      ],
      "metadata": {
        "id": "Aet-Qick7VD8"
      }
    }
  ]
}