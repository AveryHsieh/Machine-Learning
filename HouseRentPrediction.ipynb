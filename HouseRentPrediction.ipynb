{
  "nbformat": 4,
  "nbformat_minor": 0,
  "metadata": {
    "colab": {
      "provenance": [],
      "authorship_tag": "ABX9TyNAMwyXtFO3PdJmx85ORK4X",
      "include_colab_link": true
    },
    "kernelspec": {
      "name": "python3",
      "display_name": "Python 3"
    },
    "language_info": {
      "name": "python"
    }
  },
  "cells": [
    {
      "cell_type": "markdown",
      "metadata": {
        "id": "view-in-github",
        "colab_type": "text"
      },
      "source": [
        "<a href=\"https://colab.research.google.com/github/AveryHsieh/Machine-Learning/blob/main/HouseRentPrediction.ipynb\" target=\"_parent\"><img src=\"https://colab.research.google.com/assets/colab-badge.svg\" alt=\"Open In Colab\"/></a>"
      ]
    },
    {
      "cell_type": "markdown",
      "source": [
        "##載入函式庫（libraries）"
      ],
      "metadata": {
        "id": "HgAX_ajrncCW"
      }
    },
    {
      "cell_type": "code",
      "source": [
        "import numpy as np\n",
        "import pandas as pd\n",
        "import seaborn as sns\n",
        "from sklearn.linear_model import LinearRegression\n",
        "from sklearn.model_selection import train_test_split\n",
        "from sklearn.metrics import mean_squared_error, r2_score"
      ],
      "metadata": {
        "id": "Yw1fYsv9nazn"
      },
      "execution_count": null,
      "outputs": []
    },
    {
      "cell_type": "markdown",
      "source": [
        "## 導入data set\n",
        "\n",
        "\n",
        "資料集來源 : https://www.kaggle.com/datasets/iamsouravbanerjee/house-rent-prediction-dataset/*data*\n",
        "\n",
        "連接Google Drive，並使用read_csv()函數導入CSV格式的數據集"
      ],
      "metadata": {
        "id": "-NfJGuxYkjsC"
      }
    },
    {
      "cell_type": "code",
      "execution_count": null,
      "metadata": {
        "colab": {
          "base_uri": "https://localhost:8080/"
        },
        "id": "aUKZK4Rakd_I",
        "outputId": "1dd00e12-8c71-44fe-ba64-f8b69f9868dc"
      },
      "outputs": [
        {
          "output_type": "stream",
          "name": "stdout",
          "text": [
            "Drive already mounted at /content/drive; to attempt to forcibly remount, call drive.mount(\"/content/drive\", force_remount=True).\n"
          ]
        }
      ],
      "source": [
        "#連接Google雲端硬碟\n",
        "from google.colab import drive\n",
        "drive.mount('/content/drive')\n",
        "\n",
        "house_rent_data = pd.read_csv(\"/content/drive/MyDrive/112-1/機器學習觀念與應用/練習二/House_Rent_Dataset.csv\")\n"
      ]
    },
    {
      "cell_type": "markdown",
      "source": [
        "## 查看資料集"
      ],
      "metadata": {
        "id": "Nr7wjBVoo1ag"
      }
    },
    {
      "cell_type": "code",
      "source": [
        "house_rent_data.head()"
      ],
      "metadata": {
        "colab": {
          "base_uri": "https://localhost:8080/",
          "height": 206
        },
        "id": "RV0TN4hIo3tK",
        "outputId": "d311ca6b-ecac-4865-8827-0a7f75b8bd1f"
      },
      "execution_count": null,
      "outputs": [
        {
          "output_type": "execute_result",
          "data": {
            "text/plain": [
              "    Posted On  BHK   Rent  Size            Floor    Area Type  \\\n",
              "0  2022-05-18    2  10000  1100  Ground out of 2   Super Area   \n",
              "1  2022-05-13    2  20000   800       1 out of 3   Super Area   \n",
              "2  2022-05-16    2  17000  1000       1 out of 3   Super Area   \n",
              "3  2022-07-04    2  10000   800       1 out of 2   Super Area   \n",
              "4  2022-05-09    2   7500   850       1 out of 2  Carpet Area   \n",
              "\n",
              "              Area Locality     City Furnishing Status  Tenant Preferred  \\\n",
              "0                    Bandel  Kolkata       Unfurnished  Bachelors/Family   \n",
              "1  Phool Bagan, Kankurgachi  Kolkata    Semi-Furnished  Bachelors/Family   \n",
              "2   Salt Lake City Sector 2  Kolkata    Semi-Furnished  Bachelors/Family   \n",
              "3               Dumdum Park  Kolkata       Unfurnished  Bachelors/Family   \n",
              "4             South Dum Dum  Kolkata       Unfurnished         Bachelors   \n",
              "\n",
              "   Bathroom Point of Contact  \n",
              "0         2    Contact Owner  \n",
              "1         1    Contact Owner  \n",
              "2         1    Contact Owner  \n",
              "3         1    Contact Owner  \n",
              "4         1    Contact Owner  "
            ],
            "text/html": [
              "\n",
              "  <div id=\"df-a03224c2-9905-40c2-9b2b-a6ee9107fc00\" class=\"colab-df-container\">\n",
              "    <div>\n",
              "<style scoped>\n",
              "    .dataframe tbody tr th:only-of-type {\n",
              "        vertical-align: middle;\n",
              "    }\n",
              "\n",
              "    .dataframe tbody tr th {\n",
              "        vertical-align: top;\n",
              "    }\n",
              "\n",
              "    .dataframe thead th {\n",
              "        text-align: right;\n",
              "    }\n",
              "</style>\n",
              "<table border=\"1\" class=\"dataframe\">\n",
              "  <thead>\n",
              "    <tr style=\"text-align: right;\">\n",
              "      <th></th>\n",
              "      <th>Posted On</th>\n",
              "      <th>BHK</th>\n",
              "      <th>Rent</th>\n",
              "      <th>Size</th>\n",
              "      <th>Floor</th>\n",
              "      <th>Area Type</th>\n",
              "      <th>Area Locality</th>\n",
              "      <th>City</th>\n",
              "      <th>Furnishing Status</th>\n",
              "      <th>Tenant Preferred</th>\n",
              "      <th>Bathroom</th>\n",
              "      <th>Point of Contact</th>\n",
              "    </tr>\n",
              "  </thead>\n",
              "  <tbody>\n",
              "    <tr>\n",
              "      <th>0</th>\n",
              "      <td>2022-05-18</td>\n",
              "      <td>2</td>\n",
              "      <td>10000</td>\n",
              "      <td>1100</td>\n",
              "      <td>Ground out of 2</td>\n",
              "      <td>Super Area</td>\n",
              "      <td>Bandel</td>\n",
              "      <td>Kolkata</td>\n",
              "      <td>Unfurnished</td>\n",
              "      <td>Bachelors/Family</td>\n",
              "      <td>2</td>\n",
              "      <td>Contact Owner</td>\n",
              "    </tr>\n",
              "    <tr>\n",
              "      <th>1</th>\n",
              "      <td>2022-05-13</td>\n",
              "      <td>2</td>\n",
              "      <td>20000</td>\n",
              "      <td>800</td>\n",
              "      <td>1 out of 3</td>\n",
              "      <td>Super Area</td>\n",
              "      <td>Phool Bagan, Kankurgachi</td>\n",
              "      <td>Kolkata</td>\n",
              "      <td>Semi-Furnished</td>\n",
              "      <td>Bachelors/Family</td>\n",
              "      <td>1</td>\n",
              "      <td>Contact Owner</td>\n",
              "    </tr>\n",
              "    <tr>\n",
              "      <th>2</th>\n",
              "      <td>2022-05-16</td>\n",
              "      <td>2</td>\n",
              "      <td>17000</td>\n",
              "      <td>1000</td>\n",
              "      <td>1 out of 3</td>\n",
              "      <td>Super Area</td>\n",
              "      <td>Salt Lake City Sector 2</td>\n",
              "      <td>Kolkata</td>\n",
              "      <td>Semi-Furnished</td>\n",
              "      <td>Bachelors/Family</td>\n",
              "      <td>1</td>\n",
              "      <td>Contact Owner</td>\n",
              "    </tr>\n",
              "    <tr>\n",
              "      <th>3</th>\n",
              "      <td>2022-07-04</td>\n",
              "      <td>2</td>\n",
              "      <td>10000</td>\n",
              "      <td>800</td>\n",
              "      <td>1 out of 2</td>\n",
              "      <td>Super Area</td>\n",
              "      <td>Dumdum Park</td>\n",
              "      <td>Kolkata</td>\n",
              "      <td>Unfurnished</td>\n",
              "      <td>Bachelors/Family</td>\n",
              "      <td>1</td>\n",
              "      <td>Contact Owner</td>\n",
              "    </tr>\n",
              "    <tr>\n",
              "      <th>4</th>\n",
              "      <td>2022-05-09</td>\n",
              "      <td>2</td>\n",
              "      <td>7500</td>\n",
              "      <td>850</td>\n",
              "      <td>1 out of 2</td>\n",
              "      <td>Carpet Area</td>\n",
              "      <td>South Dum Dum</td>\n",
              "      <td>Kolkata</td>\n",
              "      <td>Unfurnished</td>\n",
              "      <td>Bachelors</td>\n",
              "      <td>1</td>\n",
              "      <td>Contact Owner</td>\n",
              "    </tr>\n",
              "  </tbody>\n",
              "</table>\n",
              "</div>\n",
              "    <div class=\"colab-df-buttons\">\n",
              "\n",
              "  <div class=\"colab-df-container\">\n",
              "    <button class=\"colab-df-convert\" onclick=\"convertToInteractive('df-a03224c2-9905-40c2-9b2b-a6ee9107fc00')\"\n",
              "            title=\"Convert this dataframe to an interactive table.\"\n",
              "            style=\"display:none;\">\n",
              "\n",
              "  <svg xmlns=\"http://www.w3.org/2000/svg\" height=\"24px\" viewBox=\"0 -960 960 960\">\n",
              "    <path d=\"M120-120v-720h720v720H120Zm60-500h600v-160H180v160Zm220 220h160v-160H400v160Zm0 220h160v-160H400v160ZM180-400h160v-160H180v160Zm440 0h160v-160H620v160ZM180-180h160v-160H180v160Zm440 0h160v-160H620v160Z\"/>\n",
              "  </svg>\n",
              "    </button>\n",
              "\n",
              "  <style>\n",
              "    .colab-df-container {\n",
              "      display:flex;\n",
              "      gap: 12px;\n",
              "    }\n",
              "\n",
              "    .colab-df-convert {\n",
              "      background-color: #E8F0FE;\n",
              "      border: none;\n",
              "      border-radius: 50%;\n",
              "      cursor: pointer;\n",
              "      display: none;\n",
              "      fill: #1967D2;\n",
              "      height: 32px;\n",
              "      padding: 0 0 0 0;\n",
              "      width: 32px;\n",
              "    }\n",
              "\n",
              "    .colab-df-convert:hover {\n",
              "      background-color: #E2EBFA;\n",
              "      box-shadow: 0px 1px 2px rgba(60, 64, 67, 0.3), 0px 1px 3px 1px rgba(60, 64, 67, 0.15);\n",
              "      fill: #174EA6;\n",
              "    }\n",
              "\n",
              "    .colab-df-buttons div {\n",
              "      margin-bottom: 4px;\n",
              "    }\n",
              "\n",
              "    [theme=dark] .colab-df-convert {\n",
              "      background-color: #3B4455;\n",
              "      fill: #D2E3FC;\n",
              "    }\n",
              "\n",
              "    [theme=dark] .colab-df-convert:hover {\n",
              "      background-color: #434B5C;\n",
              "      box-shadow: 0px 1px 3px 1px rgba(0, 0, 0, 0.15);\n",
              "      filter: drop-shadow(0px 1px 2px rgba(0, 0, 0, 0.3));\n",
              "      fill: #FFFFFF;\n",
              "    }\n",
              "  </style>\n",
              "\n",
              "    <script>\n",
              "      const buttonEl =\n",
              "        document.querySelector('#df-a03224c2-9905-40c2-9b2b-a6ee9107fc00 button.colab-df-convert');\n",
              "      buttonEl.style.display =\n",
              "        google.colab.kernel.accessAllowed ? 'block' : 'none';\n",
              "\n",
              "      async function convertToInteractive(key) {\n",
              "        const element = document.querySelector('#df-a03224c2-9905-40c2-9b2b-a6ee9107fc00');\n",
              "        const dataTable =\n",
              "          await google.colab.kernel.invokeFunction('convertToInteractive',\n",
              "                                                    [key], {});\n",
              "        if (!dataTable) return;\n",
              "\n",
              "        const docLinkHtml = 'Like what you see? Visit the ' +\n",
              "          '<a target=\"_blank\" href=https://colab.research.google.com/notebooks/data_table.ipynb>data table notebook</a>'\n",
              "          + ' to learn more about interactive tables.';\n",
              "        element.innerHTML = '';\n",
              "        dataTable['output_type'] = 'display_data';\n",
              "        await google.colab.output.renderOutput(dataTable, element);\n",
              "        const docLink = document.createElement('div');\n",
              "        docLink.innerHTML = docLinkHtml;\n",
              "        element.appendChild(docLink);\n",
              "      }\n",
              "    </script>\n",
              "  </div>\n",
              "\n",
              "\n",
              "<div id=\"df-e4c67c05-6ecd-4543-903f-0e13a17709f9\">\n",
              "  <button class=\"colab-df-quickchart\" onclick=\"quickchart('df-e4c67c05-6ecd-4543-903f-0e13a17709f9')\"\n",
              "            title=\"Suggest charts.\"\n",
              "            style=\"display:none;\">\n",
              "\n",
              "<svg xmlns=\"http://www.w3.org/2000/svg\" height=\"24px\"viewBox=\"0 0 24 24\"\n",
              "     width=\"24px\">\n",
              "    <g>\n",
              "        <path d=\"M19 3H5c-1.1 0-2 .9-2 2v14c0 1.1.9 2 2 2h14c1.1 0 2-.9 2-2V5c0-1.1-.9-2-2-2zM9 17H7v-7h2v7zm4 0h-2V7h2v10zm4 0h-2v-4h2v4z\"/>\n",
              "    </g>\n",
              "</svg>\n",
              "  </button>\n",
              "\n",
              "<style>\n",
              "  .colab-df-quickchart {\n",
              "      --bg-color: #E8F0FE;\n",
              "      --fill-color: #1967D2;\n",
              "      --hover-bg-color: #E2EBFA;\n",
              "      --hover-fill-color: #174EA6;\n",
              "      --disabled-fill-color: #AAA;\n",
              "      --disabled-bg-color: #DDD;\n",
              "  }\n",
              "\n",
              "  [theme=dark] .colab-df-quickchart {\n",
              "      --bg-color: #3B4455;\n",
              "      --fill-color: #D2E3FC;\n",
              "      --hover-bg-color: #434B5C;\n",
              "      --hover-fill-color: #FFFFFF;\n",
              "      --disabled-bg-color: #3B4455;\n",
              "      --disabled-fill-color: #666;\n",
              "  }\n",
              "\n",
              "  .colab-df-quickchart {\n",
              "    background-color: var(--bg-color);\n",
              "    border: none;\n",
              "    border-radius: 50%;\n",
              "    cursor: pointer;\n",
              "    display: none;\n",
              "    fill: var(--fill-color);\n",
              "    height: 32px;\n",
              "    padding: 0;\n",
              "    width: 32px;\n",
              "  }\n",
              "\n",
              "  .colab-df-quickchart:hover {\n",
              "    background-color: var(--hover-bg-color);\n",
              "    box-shadow: 0 1px 2px rgba(60, 64, 67, 0.3), 0 1px 3px 1px rgba(60, 64, 67, 0.15);\n",
              "    fill: var(--button-hover-fill-color);\n",
              "  }\n",
              "\n",
              "  .colab-df-quickchart-complete:disabled,\n",
              "  .colab-df-quickchart-complete:disabled:hover {\n",
              "    background-color: var(--disabled-bg-color);\n",
              "    fill: var(--disabled-fill-color);\n",
              "    box-shadow: none;\n",
              "  }\n",
              "\n",
              "  .colab-df-spinner {\n",
              "    border: 2px solid var(--fill-color);\n",
              "    border-color: transparent;\n",
              "    border-bottom-color: var(--fill-color);\n",
              "    animation:\n",
              "      spin 1s steps(1) infinite;\n",
              "  }\n",
              "\n",
              "  @keyframes spin {\n",
              "    0% {\n",
              "      border-color: transparent;\n",
              "      border-bottom-color: var(--fill-color);\n",
              "      border-left-color: var(--fill-color);\n",
              "    }\n",
              "    20% {\n",
              "      border-color: transparent;\n",
              "      border-left-color: var(--fill-color);\n",
              "      border-top-color: var(--fill-color);\n",
              "    }\n",
              "    30% {\n",
              "      border-color: transparent;\n",
              "      border-left-color: var(--fill-color);\n",
              "      border-top-color: var(--fill-color);\n",
              "      border-right-color: var(--fill-color);\n",
              "    }\n",
              "    40% {\n",
              "      border-color: transparent;\n",
              "      border-right-color: var(--fill-color);\n",
              "      border-top-color: var(--fill-color);\n",
              "    }\n",
              "    60% {\n",
              "      border-color: transparent;\n",
              "      border-right-color: var(--fill-color);\n",
              "    }\n",
              "    80% {\n",
              "      border-color: transparent;\n",
              "      border-right-color: var(--fill-color);\n",
              "      border-bottom-color: var(--fill-color);\n",
              "    }\n",
              "    90% {\n",
              "      border-color: transparent;\n",
              "      border-bottom-color: var(--fill-color);\n",
              "    }\n",
              "  }\n",
              "</style>\n",
              "\n",
              "  <script>\n",
              "    async function quickchart(key) {\n",
              "      const quickchartButtonEl =\n",
              "        document.querySelector('#' + key + ' button');\n",
              "      quickchartButtonEl.disabled = true;  // To prevent multiple clicks.\n",
              "      quickchartButtonEl.classList.add('colab-df-spinner');\n",
              "      try {\n",
              "        const charts = await google.colab.kernel.invokeFunction(\n",
              "            'suggestCharts', [key], {});\n",
              "      } catch (error) {\n",
              "        console.error('Error during call to suggestCharts:', error);\n",
              "      }\n",
              "      quickchartButtonEl.classList.remove('colab-df-spinner');\n",
              "      quickchartButtonEl.classList.add('colab-df-quickchart-complete');\n",
              "    }\n",
              "    (() => {\n",
              "      let quickchartButtonEl =\n",
              "        document.querySelector('#df-e4c67c05-6ecd-4543-903f-0e13a17709f9 button');\n",
              "      quickchartButtonEl.style.display =\n",
              "        google.colab.kernel.accessAllowed ? 'block' : 'none';\n",
              "    })();\n",
              "  </script>\n",
              "</div>\n",
              "    </div>\n",
              "  </div>\n"
            ]
          },
          "metadata": {},
          "execution_count": 47
        }
      ]
    },
    {
      "cell_type": "code",
      "source": [
        "house_rent_data.info()"
      ],
      "metadata": {
        "colab": {
          "base_uri": "https://localhost:8080/"
        },
        "id": "zVGeT_hEpZ2N",
        "outputId": "9d1ce4fc-9258-43c7-9cb5-be725bfac383"
      },
      "execution_count": null,
      "outputs": [
        {
          "output_type": "stream",
          "name": "stdout",
          "text": [
            "<class 'pandas.core.frame.DataFrame'>\n",
            "RangeIndex: 4746 entries, 0 to 4745\n",
            "Data columns (total 12 columns):\n",
            " #   Column             Non-Null Count  Dtype \n",
            "---  ------             --------------  ----- \n",
            " 0   Posted On          4746 non-null   object\n",
            " 1   BHK                4746 non-null   int64 \n",
            " 2   Rent               4746 non-null   int64 \n",
            " 3   Size               4746 non-null   int64 \n",
            " 4   Floor              4746 non-null   object\n",
            " 5   Area Type          4746 non-null   object\n",
            " 6   Area Locality      4746 non-null   object\n",
            " 7   City               4746 non-null   object\n",
            " 8   Furnishing Status  4746 non-null   object\n",
            " 9   Tenant Preferred   4746 non-null   object\n",
            " 10  Bathroom           4746 non-null   int64 \n",
            " 11  Point of Contact   4746 non-null   object\n",
            "dtypes: int64(4), object(8)\n",
            "memory usage: 445.1+ KB\n"
          ]
        }
      ]
    },
    {
      "cell_type": "markdown",
      "source": [
        "## **1. 選定一個評估指標，並解釋為什麼要使用該評估指標**\n",
        "評估指標的選擇：決定係數（R-squared）\n",
        "\n",
        "決定係數表示模型解釋目標變量方差的比例。它的值範圍在0到1之間，越接近1表示模型解釋的方差越多，模型的擬合度越好。\n",
        "\n",
        "\n",
        "選擇R-squared作為評估指標的理由：\n",
        "\n",
        "1. 簡單易懂：R-squared是一個直觀的指標，易於理解。它表示模型解釋了多少觀測資料中的變異性，這種解釋能力的量化使得結果更容易解釋和傳達給非專業人士。\n",
        "\n",
        "2. 模型解釋力：R-squared提供了一個度量模型解釋能力的指標。當R-square接近1時，表示模型的解釋能力較強，預測結果與實際觀測值的一致性較高。\n",
        "\n",
        "3. 可用於模型比較：R-squared可以用來比較不同模型的表現。在比較多個回歸模型時，R-square的值可以幫助選擇最適合的模型，即使非專業人士也能夠理解這種比較。\n",
        "\n",
        "## **2. 使用該資料集建立基本的回歸預測模型，並比較至少 3 種 Feature engineering 方法結果**"
      ],
      "metadata": {
        "id": "h1gOYaMroQqf"
      }
    },
    {
      "cell_type": "markdown",
      "source": [
        "基本模型"
      ],
      "metadata": {
        "id": "hZjqHRt_11te"
      }
    },
    {
      "cell_type": "code",
      "source": [
        "from sklearn.linear_model import LinearRegression\n",
        "from sklearn.model_selection import train_test_split\n",
        "from sklearn.metrics import mean_squared_error\n",
        "\n",
        "# 選擇特徵和目標\n",
        "features = house_rent_data[['BHK', 'Size', 'Bathroom']]\n",
        "target = house_rent_data['Rent']\n",
        "\n",
        "# 切分訓練集和測試集\n",
        "X_train, X_test, y_train, y_test = train_test_split(features, target, test_size=0.2, random_state=42)\n",
        "\n",
        "# 建立線性回歸模型\n",
        "model = LinearRegression()\n",
        "\n",
        "# 訓練模型\n",
        "model.fit(X_train, y_train)\n",
        "\n",
        "# 預測\n",
        "predictions = model.predict(X_test)\n",
        "\n",
        "# 計算均方誤差（R-squared）作為評估指標\n",
        "r_squared = r2_score(y_test, predictions)\n",
        "print('R-squared:', r_squared)"
      ],
      "metadata": {
        "colab": {
          "base_uri": "https://localhost:8080/"
        },
        "id": "-AFJU2AUxfKe",
        "outputId": "7b9f49cf-e5f7-4b35-cb6e-f65430a1cb07"
      },
      "execution_count": null,
      "outputs": [
        {
          "output_type": "stream",
          "name": "stdout",
          "text": [
            "R-squared: 0.3589632776073113\n"
          ]
        }
      ]
    },
    {
      "cell_type": "markdown",
      "source": [
        "\n",
        "> 特徵縮放 (Feature Scaling)"
      ],
      "metadata": {
        "id": "SlWpboAKwlbt"
      }
    },
    {
      "cell_type": "code",
      "source": [
        "from sklearn.preprocessing import StandardScaler\n",
        "\n",
        "# 初始化特徵縮放器\n",
        "scaler = StandardScaler()\n",
        "\n",
        "# 對特徵進行標準化\n",
        "X_train_scaled = scaler.fit_transform(X_train)\n",
        "X_test_scaled = scaler.transform(X_test)\n",
        "\n",
        "# 建立線性回歸模型\n",
        "model = LinearRegression()\n",
        "\n",
        "# 訓練模型\n",
        "model.fit(X_train_scaled, y_train)\n",
        "\n",
        "# 預測\n",
        "predictions = model.predict(X_test_scaled)\n",
        "\n",
        "# 計算均方誤差（R-squared）作為評估指標\n",
        "r_squared = r2_score(y_test, predictions)\n",
        "print('R-squared of Feature Scaling:', r_squared)"
      ],
      "metadata": {
        "colab": {
          "base_uri": "https://localhost:8080/"
        },
        "id": "GJsUXi-XyEf2",
        "outputId": "71f73c61-98ae-4d8c-9f3c-19f5d0e9392a"
      },
      "execution_count": null,
      "outputs": [
        {
          "output_type": "stream",
          "name": "stdout",
          "text": [
            "R-squared of Feature Scaling: 0.35896327760736757\n"
          ]
        }
      ]
    },
    {
      "cell_type": "markdown",
      "source": [
        "> 特徵組合(Feature Combination) - 多項式特徵擴展\n",
        "\n"
      ],
      "metadata": {
        "id": "8G6X1HnNnPe6"
      }
    },
    {
      "cell_type": "code",
      "source": [
        "from sklearn.preprocessing import PolynomialFeatures\n",
        "\n",
        "# 初始化多項式特徵擴展器\n",
        "poly = PolynomialFeatures(degree=2)\n",
        "\n",
        "# 對特徵進行多項式擴展\n",
        "X_train_poly = poly.fit_transform(X_train)\n",
        "X_test_poly = poly.transform(X_test)\n",
        "\n",
        "# 建立線性回歸模型\n",
        "model = LinearRegression()\n",
        "\n",
        "# 訓練模型\n",
        "model.fit(X_train_poly, y_train)\n",
        "\n",
        "# 預測\n",
        "predictions = model.predict(X_test_poly)\n",
        "\n",
        "# 計算均方誤差（R-squared）作為評估指標\n",
        "r_squared = r2_score(y_test, predictions)\n",
        "print('R-squared of Feature Combination:', r_squared)"
      ],
      "metadata": {
        "colab": {
          "base_uri": "https://localhost:8080/"
        },
        "id": "lGWDJKIBsXd6",
        "outputId": "a061d7bf-1732-4c04-a435-22d3e54e3212"
      },
      "execution_count": null,
      "outputs": [
        {
          "output_type": "stream",
          "name": "stdout",
          "text": [
            "R-squared of Feature Combination: 0.43316201495942874\n"
          ]
        }
      ]
    },
    {
      "cell_type": "markdown",
      "source": [
        "\n",
        "> 特徵選擇 (Feature Selection)"
      ],
      "metadata": {
        "id": "SH5qCRqo0Ish"
      }
    },
    {
      "cell_type": "code",
      "source": [
        "from sklearn.feature_selection import SelectKBest, f_regression\n",
        "\n",
        "# 初始化特徵選擇器\n",
        "selector = SelectKBest(score_func=f_regression, k=1)\n",
        "\n",
        "# 選擇特徵\n",
        "X_train_selected = selector.fit_transform(X_train, y_train)\n",
        "X_test_selected = selector.transform(X_test)\n",
        "\n",
        "# 建立線性回歸模型\n",
        "model = LinearRegression()\n",
        "\n",
        "# 訓練模型\n",
        "model.fit(X_train_selected, y_train)\n",
        "\n",
        "# 預測\n",
        "predictions = model.predict(X_test_selected)\n",
        "\n",
        "# 計算均方誤差（R-squared）作為評估指標\n",
        "r_squared = r2_score(y_test, predictions)\n",
        "print('R-squared of Feature Selection:', r_squared)"
      ],
      "metadata": {
        "colab": {
          "base_uri": "https://localhost:8080/"
        },
        "id": "GCnAVFjG0bM2",
        "outputId": "95753de1-7981-4f49-ae72-3c72925fb76f"
      },
      "execution_count": null,
      "outputs": [
        {
          "output_type": "stream",
          "name": "stdout",
          "text": [
            "R-squared of Feature Selection: 0.31249602207243476\n"
          ]
        }
      ]
    },
    {
      "cell_type": "markdown",
      "source": [
        "###比較:\n",
        "\n",
        "\n",
        "在這份資料集中，採用不同的特徵工程方法並計算了相應的R-squared分數，結果如下：\n",
        "\n",
        "* 基本模型 R-squared： 0.3589632776073113\n",
        "這是使用原始特徵訓練的模型的R-squared分數。\n",
        "\n",
        "* 特徵縮放後的 R-squared： 0.35896327760736757\n",
        "特徵縮放對於這份資料集並沒有影響，R-squared分數保持不變。\n",
        "\n",
        "* 特徵組合後的 R-squared： 0.43316201495942874\n",
        "透過特徵組合，可看到R-squared分數有所上升，這顯示出新特徵的引入對於模型性能有正面影響。\n",
        "\n",
        "* 特徵選擇後的 R-squared： 0.31249602207243476\n",
        "僅進行特徵選擇時，R-squared分數反而下降。這可能是因為選到了一些不具代表性的特徵，導致模型無法有效地捕捉資料的變異性。\n",
        "\n",
        "總體來看，對於這份資料集，特徵組合的方法顯示出了最好的效果，而單獨的特徵選擇並不是一個好的策略，可能會導致模型性能下降。特徵縮放在這個情境下並不會影響模型的預測能力。"
      ],
      "metadata": {
        "id": "0wX7B9Ku2tM7"
      }
    },
    {
      "cell_type": "markdown",
      "source": [
        "## **3. 實作並比較至少 3 種 Data Encoding方法結果**"
      ],
      "metadata": {
        "id": "hP3MjcdXt47S"
      }
    },
    {
      "cell_type": "markdown",
      "source": [
        "載入套件、選取特徵目標﹑切分訓練測試集"
      ],
      "metadata": {
        "id": "ULnFQliX_ba2"
      }
    },
    {
      "cell_type": "code",
      "source": [
        "pip install category_encoders"
      ],
      "metadata": {
        "id": "SKuraJZD73fh"
      },
      "execution_count": null,
      "outputs": []
    },
    {
      "cell_type": "code",
      "source": [
        "from sklearn.linear_model import LinearRegression\n",
        "from sklearn.model_selection import train_test_split\n",
        "from sklearn.metrics import mean_squared_error\n",
        "\n",
        "# 選取特徵和目標\n",
        "features = ['BHK', 'Size', 'Floor', 'Area Type', 'Area Locality', 'City', 'Furnishing Status', 'Bathroom']\n",
        "target = 'Rent'\n",
        "\n",
        "# 切分訓練集和測試集\n",
        "X = house_rent_data[features]\n",
        "y = house_rent_data[target]\n",
        "X_train, X_test, y_train, y_test = train_test_split(X, y, test_size=0.2, random_state=42)"
      ],
      "metadata": {
        "id": "rMhzeRiL3xGS"
      },
      "execution_count": null,
      "outputs": []
    },
    {
      "cell_type": "markdown",
      "source": [
        "\n",
        ">  One-Hot Encoding"
      ],
      "metadata": {
        "id": "vSFSVW6N7_LP"
      }
    },
    {
      "cell_type": "code",
      "source": [
        "# 使用One-Hot Encoding\n",
        "encoder = OneHotEncoder(cols=['Area Type','Floor', 'Area Locality', 'City', 'Furnishing Status'])\n",
        "X_train_onehot = encoder.fit_transform(X_train)\n",
        "X_test_onehot = encoder.transform(X_test)\n",
        "\n",
        "# 建立並訓練模型\n",
        "model = LinearRegression()\n",
        "\n",
        "model.fit(X_train_onehot, y_train)\n",
        "y_pred_onehot = model.predict(X_test_onehot)\n",
        "r2_onehot = r2_score(y_test, y_pred_onehot)\n",
        "print(\"R2 score using One-Hot Encoding:\", r2_onehot)"
      ],
      "metadata": {
        "colab": {
          "base_uri": "https://localhost:8080/"
        },
        "id": "arcCbbEC8JrE",
        "outputId": "2e133e31-f11f-488f-8a6a-5fda21c80157"
      },
      "execution_count": null,
      "outputs": [
        {
          "output_type": "stream",
          "name": "stdout",
          "text": [
            "R2 score using One-Hot Encoding: -157960177008461.22\n"
          ]
        }
      ]
    },
    {
      "cell_type": "markdown",
      "source": [
        "\n",
        "> Label Encoding"
      ],
      "metadata": {
        "id": "lkNeEJEg8AHb"
      }
    },
    {
      "cell_type": "code",
      "source": [
        "# 使用Label Encoding\n",
        "label_encoder = OrdinalEncoder(cols=['Area Type','Floor', 'Area Locality', 'City', 'Furnishing Status'])\n",
        "X_train_label = label_encoder.fit_transform(X_train)\n",
        "X_test_label = label_encoder.transform(X_test)\n",
        "\n",
        "# 建立並訓練模型\n",
        "model = LinearRegression()\n",
        "\n",
        "model.fit(X_train_label, y_train)\n",
        "y_pred_label = model.predict(X_test_label)\n",
        "r2_label = r2_score(y_test, y_pred_label)\n",
        "print(\"R2 score using Label Encoding:\", r2_label)"
      ],
      "metadata": {
        "colab": {
          "base_uri": "https://localhost:8080/"
        },
        "id": "oTVuWbhJ8Sxn",
        "outputId": "41a71bd8-c532-4e02-bdf2-1214085aed69"
      },
      "execution_count": null,
      "outputs": [
        {
          "output_type": "stream",
          "name": "stdout",
          "text": [
            "R2 score using Label Encoding: 0.40546250619636903\n"
          ]
        }
      ]
    },
    {
      "cell_type": "markdown",
      "source": [
        "\n",
        "> Target Encoding"
      ],
      "metadata": {
        "id": "seKs4BLd8APU"
      }
    },
    {
      "cell_type": "code",
      "source": [
        "# 使用Target Encoding\n",
        "target_encoder = TargetEncoder(cols=['Area Type','Floor', 'Area Locality', 'City', 'Furnishing Status'])\n",
        "X_train_target = target_encoder.fit_transform(X_train, y_train)\n",
        "X_test_target = target_encoder.transform(X_test)\n",
        "\n",
        "# 建立並訓練模型\n",
        "model = LinearRegression()\n",
        "\n",
        "model.fit(X_train_target, y_train)\n",
        "y_pred_target = model.predict(X_test_target)\n",
        "r2_target = r2_score(y_test, y_pred_target)\n",
        "print(\"R2 score using Target Encoding:\", r2_target)"
      ],
      "metadata": {
        "colab": {
          "base_uri": "https://localhost:8080/"
        },
        "id": "grt7GRZp8UUT",
        "outputId": "6dbf5e28-eaf3-40f7-d7ef-871b35f9e15c"
      },
      "execution_count": null,
      "outputs": [
        {
          "output_type": "stream",
          "name": "stdout",
          "text": [
            "R2 score using Target Encoding: 0.3020000651986652\n"
          ]
        }
      ]
    },
    {
      "cell_type": "markdown",
      "source": [
        "###比較:\n",
        "\n",
        "在這份資料集中，進行不同的特徵編碼方法後，得到了以下結果：\n",
        "\n",
        "* One-Hot Encoding： R2分數為負數，表示這種編碼方法並不適合這份資料集。可能是因為資料中某些類別變數的唯一值太多，造成了維度爆炸的問題，導致模型難以訓練。\n",
        "\n",
        "* Label Encoding： R2分數約為0.31，相對於One-Hot Encoding，Label Encoding在這份資料集上取得了更好的效果。這可能是因為Label Encoding將類別變數映射為整數，有時可以捕捉到一些類別內部的順序關係，從而提供一些額外的資訊給模型。\n",
        "\n",
        "* Target Encoding： R2分數約為0.41，是三種方法中效果最好的。Target Encoding利用目標變數（Rent）的資訊來編碼類別特徵，更精準地反映了類別特徵和目標之間的關係，因此在這份資料集上取得了最好的預測結果。\n",
        "\n",
        "總結來說，根據這份資料集的特性，建議使用Target Encoding作為特徵編碼的方法，因為它能夠提供相對較好的模型預測力。"
      ],
      "metadata": {
        "id": "DVpXGyM2865C"
      }
    }
  ]
}